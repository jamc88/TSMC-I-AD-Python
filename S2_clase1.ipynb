{
 "cells": [
  {
   "cell_type": "markdown",
   "id": "9a4a203b",
   "metadata": {},
   "source": [
    "Python soporta las denominadas funciones anónimas o **lambda**, una forma de escribir funciones que consisten en una única sentencia."
   ]
  },
  {
   "cell_type": "code",
   "execution_count": 1,
   "id": "18f14775",
   "metadata": {},
   "outputs": [],
   "source": [
    "def short_function(x):\n",
    "    return x ** 2"
   ]
  },
  {
   "cell_type": "code",
   "execution_count": 2,
   "id": "5371208a",
   "metadata": {},
   "outputs": [],
   "source": [
    "equiv = lambda x: x ** 2"
   ]
  },
  {
   "cell_type": "code",
   "execution_count": 3,
   "id": "41dd8354",
   "metadata": {},
   "outputs": [
    {
     "data": {
      "text/plain": [
       "9"
      ]
     },
     "execution_count": 3,
     "metadata": {},
     "output_type": "execute_result"
    }
   ],
   "source": [
    "short_function(3)"
   ]
  },
  {
   "cell_type": "code",
   "execution_count": 4,
   "id": "15236ba6",
   "metadata": {},
   "outputs": [
    {
     "data": {
      "text/plain": [
       "9"
      ]
     },
     "execution_count": 4,
     "metadata": {},
     "output_type": "execute_result"
    }
   ],
   "source": [
    "equiv(3)"
   ]
  },
  {
   "cell_type": "markdown",
   "id": "78bae136",
   "metadata": {},
   "source": [
    "Una **API** (“Interfaz de Programación de Aplicaciones”) es un conjunto de reglas definidas que permiten que diferentes aplicaciones se comuniquen entre sí. Actúa como una capa intermedia que procesa las transferencias de datos entre sistemas, permitiendo a las empresas abrir sus datos y funcionalidades de aplicaciones a desarrolladores externos, socios comerciales y departamentos internos dentro de sus empresas."
   ]
  },
  {
   "cell_type": "markdown",
   "id": "fb505d4d",
   "metadata": {},
   "source": [
    "## Paquete NumPy"
   ]
  },
  {
   "cell_type": "markdown",
   "id": "e15edfa3",
   "metadata": {},
   "source": [
    "Estas son algunas de las características que encontramos en NumPy:\n",
    "\n",
    "* ndarray, un eficiente array multidimensional que ofrece rápidas operaciones aritméticas orientadas a arrays y unas capacidades de difusión muy flexibles.\n",
    "\n",
    "* Funciones matemáticas para operaciones rápidas con arrays enteros de datos sin tener que escribir bucles.\n",
    "\n",
    "* Herramientas para leer o escribir datos de array en disco y trabajar con archivos proyectados en memoria.\n",
    "\n",
    "* Una API  escrita en C para conectar NumPy con librerías escritas en C, C++ o FORTRAN."
   ]
  },
  {
   "cell_type": "markdown",
   "id": "a25de6f7",
   "metadata": {},
   "source": [
    "Una de las características fundamentales de NumPy es su objeto **ndarray**, un contenedor rápido y flexible para grandes conjuntos de datos en Python. Los arrays permiten realizar operaciones matemáticas con bloques de datos enteros, utilizando una sintaxis similar a las operaciones equivalentes entre elementos escalares."
   ]
  },
  {
   "cell_type": "code",
   "execution_count": 6,
   "id": "59ce4f73",
   "metadata": {},
   "outputs": [],
   "source": [
    "import numpy as np"
   ]
  },
  {
   "cell_type": "code",
   "execution_count": 7,
   "id": "17002e61",
   "metadata": {},
   "outputs": [],
   "source": [
    "datos = np.array([[1.5, -0.1, 3], [0, -3, 6.5]])"
   ]
  },
  {
   "cell_type": "code",
   "execution_count": 8,
   "id": "ec2ef8b6",
   "metadata": {},
   "outputs": [
    {
     "data": {
      "text/plain": [
       "array([[ 1.5, -0.1,  3. ],\n",
       "       [ 0. , -3. ,  6.5]])"
      ]
     },
     "execution_count": 8,
     "metadata": {},
     "output_type": "execute_result"
    }
   ],
   "source": [
    "datos"
   ]
  },
  {
   "cell_type": "code",
   "execution_count": 9,
   "id": "cb2ee326",
   "metadata": {},
   "outputs": [
    {
     "data": {
      "text/plain": [
       "array([[ 15.,  -1.,  30.],\n",
       "       [  0., -30.,  65.]])"
      ]
     },
     "execution_count": 9,
     "metadata": {},
     "output_type": "execute_result"
    }
   ],
   "source": [
    "datos*10"
   ]
  },
  {
   "cell_type": "code",
   "execution_count": 10,
   "id": "82f6d5dc",
   "metadata": {},
   "outputs": [
    {
     "data": {
      "text/plain": [
       "array([[ 3. , -0.2,  6. ],\n",
       "       [ 0. , -6. , 13. ]])"
      ]
     },
     "execution_count": 10,
     "metadata": {},
     "output_type": "execute_result"
    }
   ],
   "source": [
    "datos+datos"
   ]
  },
  {
   "cell_type": "markdown",
   "id": "b37662bf",
   "metadata": {},
   "source": [
    "Un ndarray es un contenedor genérico multidimensional para datos homogéneos; es decir, todos los elementos deben ser del mismo tipo."
   ]
  },
  {
   "cell_type": "code",
   "execution_count": 11,
   "id": "143ecfb8",
   "metadata": {},
   "outputs": [
    {
     "data": {
      "text/plain": [
       "(2, 3)"
      ]
     },
     "execution_count": 11,
     "metadata": {},
     "output_type": "execute_result"
    }
   ],
   "source": [
    "datos.shape # una tupla indica el tamaño de cada dimensión"
   ]
  },
  {
   "cell_type": "markdown",
   "id": "4f372b53",
   "metadata": {},
   "source": [
    "La forma más sencilla de crear un array es mediante la función array."
   ]
  },
  {
   "cell_type": "code",
   "execution_count": null,
   "id": "23418e1e",
   "metadata": {},
   "outputs": [],
   "source": []
  },
  {
   "cell_type": "code",
   "execution_count": 12,
   "id": "0b512c88",
   "metadata": {},
   "outputs": [],
   "source": [
    "datos1 = [6, 7.5, 8, 0, 1]"
   ]
  },
  {
   "cell_type": "code",
   "execution_count": 13,
   "id": "1ec5b5c9",
   "metadata": {},
   "outputs": [],
   "source": [
    "arr1 = np.array(datos1)"
   ]
  },
  {
   "cell_type": "code",
   "execution_count": 14,
   "id": "5f11f0d8",
   "metadata": {},
   "outputs": [
    {
     "data": {
      "text/plain": [
       "array([6. , 7.5, 8. , 0. , 1. ])"
      ]
     },
     "execution_count": 14,
     "metadata": {},
     "output_type": "execute_result"
    }
   ],
   "source": [
    "arr1"
   ]
  },
  {
   "cell_type": "markdown",
   "id": "dc40b484",
   "metadata": {},
   "source": [
    "Una lista de listas de la misma longitud, serán convertidas en un array multidimensional:"
   ]
  },
  {
   "cell_type": "code",
   "execution_count": 15,
   "id": "5fffcdb3",
   "metadata": {},
   "outputs": [],
   "source": [
    "datos2 = [[1, 2, 3, 4], [5, 6, 7, 8]]"
   ]
  },
  {
   "cell_type": "code",
   "execution_count": 16,
   "id": "a6a3421d",
   "metadata": {},
   "outputs": [],
   "source": [
    "arr2 = np.array(datos2)"
   ]
  },
  {
   "cell_type": "code",
   "execution_count": 17,
   "id": "d1a7d7e5",
   "metadata": {},
   "outputs": [
    {
     "data": {
      "text/plain": [
       "array([[1, 2, 3, 4],\n",
       "       [5, 6, 7, 8]])"
      ]
     },
     "execution_count": 17,
     "metadata": {},
     "output_type": "execute_result"
    }
   ],
   "source": [
    "arr2"
   ]
  },
  {
   "cell_type": "markdown",
   "id": "7395f7c0",
   "metadata": {},
   "source": [
    "Como datos2 era una lista de listas, el array NumPy arr2 tiene dos dimensiones"
   ]
  },
  {
   "cell_type": "code",
   "execution_count": 18,
   "id": "635bc6e0",
   "metadata": {},
   "outputs": [
    {
     "data": {
      "text/plain": [
       "2"
      ]
     },
     "execution_count": 18,
     "metadata": {},
     "output_type": "execute_result"
    }
   ],
   "source": [
    "arr2.ndim"
   ]
  },
  {
   "cell_type": "code",
   "execution_count": 19,
   "id": "80a65030",
   "metadata": {},
   "outputs": [
    {
     "data": {
      "text/plain": [
       "dtype('float64')"
      ]
     },
     "execution_count": 19,
     "metadata": {},
     "output_type": "execute_result"
    }
   ],
   "source": [
    "arr1.dtype"
   ]
  },
  {
   "cell_type": "code",
   "execution_count": 16,
   "id": "976291fc",
   "metadata": {},
   "outputs": [
    {
     "data": {
      "text/plain": [
       "dtype('int64')"
      ]
     },
     "execution_count": 16,
     "metadata": {},
     "output_type": "execute_result"
    }
   ],
   "source": [
    "arr2.dtype"
   ]
  },
  {
   "cell_type": "markdown",
   "id": "59975333",
   "metadata": {},
   "source": [
    "Otra función que nos permite crear un array NumPy es numpy.arange. Al igual que la función predefinida de Python range, genera un conjunto de números entre un valor de inicio y uno final, pudiendo especificar un incremento entre los valores, pero, al contrario de lo que ocurre con range, el resultado aquí es un array NumPy:"
   ]
  },
  {
   "cell_type": "code",
   "execution_count": 21,
   "id": "da175b65",
   "metadata": {},
   "outputs": [],
   "source": [
    "arr = np.arange(1,20,3)"
   ]
  },
  {
   "cell_type": "code",
   "execution_count": 22,
   "id": "54fdde02",
   "metadata": {},
   "outputs": [
    {
     "data": {
      "text/plain": [
       "array([ 1,  4,  7, 10, 13, 16, 19])"
      ]
     },
     "execution_count": 22,
     "metadata": {},
     "output_type": "execute_result"
    }
   ],
   "source": [
    "arr"
   ]
  },
  {
   "cell_type": "markdown",
   "id": "3165d99e",
   "metadata": {},
   "source": [
    "**numpy.zeros** y **numpy.ones** crean arrays de ceros y unos, respectivamente, con una determinada longitud o forma; **numpy.empty** crea un array sin inicializar sus valores a ningún valor especial."
   ]
  },
  {
   "cell_type": "code",
   "execution_count": 24,
   "id": "8332b33b",
   "metadata": {},
   "outputs": [
    {
     "data": {
      "text/plain": [
       "array([0., 0., 0., 0., 0., 0., 0., 0.])"
      ]
     },
     "execution_count": 24,
     "metadata": {},
     "output_type": "execute_result"
    }
   ],
   "source": [
    "np.zeros(8)"
   ]
  },
  {
   "cell_type": "code",
   "execution_count": 25,
   "id": "a59e0b14",
   "metadata": {},
   "outputs": [
    {
     "data": {
      "text/plain": [
       "array([[0., 0., 0., 0., 0.],\n",
       "       [0., 0., 0., 0., 0.],\n",
       "       [0., 0., 0., 0., 0.]])"
      ]
     },
     "execution_count": 25,
     "metadata": {},
     "output_type": "execute_result"
    }
   ],
   "source": [
    "np.zeros((3,5))"
   ]
  },
  {
   "cell_type": "markdown",
   "id": "859e9e5e",
   "metadata": {},
   "source": [
    "Se puede convertir de forma explícita un array de un tipo de datos a otro utilizando el método astype de ndarray"
   ]
  },
  {
   "cell_type": "code",
   "execution_count": 26,
   "id": "c080c7ca",
   "metadata": {},
   "outputs": [],
   "source": [
    "arr = np.array([1, 2, 3, 4, 5])"
   ]
  },
  {
   "cell_type": "code",
   "execution_count": 27,
   "id": "6c55e07c",
   "metadata": {},
   "outputs": [
    {
     "data": {
      "text/plain": [
       "array([1, 2, 3, 4, 5])"
      ]
     },
     "execution_count": 27,
     "metadata": {},
     "output_type": "execute_result"
    }
   ],
   "source": [
    "arr"
   ]
  },
  {
   "cell_type": "code",
   "execution_count": 28,
   "id": "6c1a7351",
   "metadata": {},
   "outputs": [
    {
     "data": {
      "text/plain": [
       "dtype('int64')"
      ]
     },
     "execution_count": 28,
     "metadata": {},
     "output_type": "execute_result"
    }
   ],
   "source": [
    "arr.dtype"
   ]
  },
  {
   "cell_type": "code",
   "execution_count": 29,
   "id": "8c2bae29",
   "metadata": {},
   "outputs": [],
   "source": [
    "float_arr = arr.astype(np.float64)"
   ]
  },
  {
   "cell_type": "code",
   "execution_count": 30,
   "id": "c8e1cb9d",
   "metadata": {},
   "outputs": [
    {
     "data": {
      "text/plain": [
       "array([1., 2., 3., 4., 5.])"
      ]
     },
     "execution_count": 30,
     "metadata": {},
     "output_type": "execute_result"
    }
   ],
   "source": [
    "float_arr"
   ]
  },
  {
   "cell_type": "markdown",
   "id": "5fad0cf7",
   "metadata": {},
   "source": [
    "Si se convierten números en punto flotante al tipo de datos entero, la parte decimal quedará truncada:"
   ]
  },
  {
   "cell_type": "code",
   "execution_count": 31,
   "id": "e0c9d52d",
   "metadata": {},
   "outputs": [],
   "source": [
    "arr = np.array([3.7, -1.2, -2.6, 0.5, 12.9, 10.1])"
   ]
  },
  {
   "cell_type": "code",
   "execution_count": 32,
   "id": "857de891",
   "metadata": {},
   "outputs": [
    {
     "data": {
      "text/plain": [
       "array([ 3, -1, -2,  0, 12, 10], dtype=int32)"
      ]
     },
     "execution_count": 32,
     "metadata": {},
     "output_type": "execute_result"
    }
   ],
   "source": [
    "arr.astype(np.int32)"
   ]
  },
  {
   "cell_type": "markdown",
   "id": "2c2128b4",
   "metadata": {},
   "source": [
    "Si tenemos un array de cadenas de texto que representan números, se puede emplear astype para convertirlos a su forma numérica:"
   ]
  },
  {
   "cell_type": "code",
   "execution_count": 33,
   "id": "d43f3092",
   "metadata": {},
   "outputs": [],
   "source": [
    "numeric_strings = np.array(['1.25', '-9.6', '42'], dtype=np.string_)"
   ]
  },
  {
   "cell_type": "code",
   "execution_count": 34,
   "id": "be95aa8a",
   "metadata": {},
   "outputs": [
    {
     "data": {
      "text/plain": [
       "array([b'1.25', b'-9.6', b'42'], dtype='|S4')"
      ]
     },
     "execution_count": 34,
     "metadata": {},
     "output_type": "execute_result"
    }
   ],
   "source": [
    "numeric_strings"
   ]
  },
  {
   "cell_type": "code",
   "execution_count": 35,
   "id": "884e02f8",
   "metadata": {},
   "outputs": [
    {
     "data": {
      "text/plain": [
       "array([ 1.25, -9.6 , 42.  ])"
      ]
     },
     "execution_count": 35,
     "metadata": {},
     "output_type": "execute_result"
    }
   ],
   "source": [
    "numeric_strings.astype(float)"
   ]
  },
  {
   "cell_type": "code",
   "execution_count": null,
   "id": "642284d7",
   "metadata": {},
   "outputs": [],
   "source": []
  },
  {
   "cell_type": "markdown",
   "id": "b57a9960",
   "metadata": {},
   "source": [
    "## Aritmética con arrays"
   ]
  },
  {
   "cell_type": "markdown",
   "id": "59853d60",
   "metadata": {},
   "source": [
    "Los arrays son importantes porque permiten expresar operaciones en lotes con datos sin escribir bucles for. Los usuarios de NumPy llaman a esto vectorización."
   ]
  },
  {
   "cell_type": "code",
   "execution_count": 36,
   "id": "8a069325",
   "metadata": {},
   "outputs": [],
   "source": [
    "arr = np.array([[1., 2., 3.], [4., 5., 6.]])"
   ]
  },
  {
   "cell_type": "code",
   "execution_count": 37,
   "id": "9afb33d8",
   "metadata": {},
   "outputs": [
    {
     "data": {
      "text/plain": [
       "array([[1., 2., 3.],\n",
       "       [4., 5., 6.]])"
      ]
     },
     "execution_count": 37,
     "metadata": {},
     "output_type": "execute_result"
    }
   ],
   "source": [
    "arr"
   ]
  },
  {
   "cell_type": "code",
   "execution_count": 38,
   "id": "eb372f93",
   "metadata": {},
   "outputs": [
    {
     "data": {
      "text/plain": [
       "array([[ 1.,  4.,  9.],\n",
       "       [16., 25., 36.]])"
      ]
     },
     "execution_count": 38,
     "metadata": {},
     "output_type": "execute_result"
    }
   ],
   "source": [
    "arr*arr"
   ]
  },
  {
   "cell_type": "code",
   "execution_count": 39,
   "id": "6bc1c57a",
   "metadata": {},
   "outputs": [
    {
     "data": {
      "text/plain": [
       "array([[0., 0., 0.],\n",
       "       [0., 0., 0.]])"
      ]
     },
     "execution_count": 39,
     "metadata": {},
     "output_type": "execute_result"
    }
   ],
   "source": [
    "arr-arr"
   ]
  },
  {
   "cell_type": "code",
   "execution_count": 40,
   "id": "fface214",
   "metadata": {},
   "outputs": [
    {
     "data": {
      "text/plain": [
       "array([[1.        , 0.5       , 0.33333333],\n",
       "       [0.25      , 0.2       , 0.16666667]])"
      ]
     },
     "execution_count": 40,
     "metadata": {},
     "output_type": "execute_result"
    }
   ],
   "source": [
    "1/arr"
   ]
  },
  {
   "cell_type": "code",
   "execution_count": 41,
   "id": "0b452a2f",
   "metadata": {},
   "outputs": [
    {
     "data": {
      "text/plain": [
       "array([[ 1.,  4.,  9.],\n",
       "       [16., 25., 36.]])"
      ]
     },
     "execution_count": 41,
     "metadata": {},
     "output_type": "execute_result"
    }
   ],
   "source": [
    "arr**2"
   ]
  },
  {
   "cell_type": "markdown",
   "id": "94ac6b4a",
   "metadata": {},
   "source": [
    "Las comparaciones entre arrays del mismo tamaño producen arrays booleanos:"
   ]
  },
  {
   "cell_type": "code",
   "execution_count": 42,
   "id": "3545e0bb",
   "metadata": {},
   "outputs": [],
   "source": [
    "arr2 = np.array([[0., 4., 1.], [7., 2., 12.]])"
   ]
  },
  {
   "cell_type": "code",
   "execution_count": 43,
   "id": "73037fde",
   "metadata": {},
   "outputs": [
    {
     "data": {
      "text/plain": [
       "array([[ 0.,  4.,  1.],\n",
       "       [ 7.,  2., 12.]])"
      ]
     },
     "execution_count": 43,
     "metadata": {},
     "output_type": "execute_result"
    }
   ],
   "source": [
    "arr2"
   ]
  },
  {
   "cell_type": "code",
   "execution_count": 44,
   "id": "d9abc474",
   "metadata": {},
   "outputs": [
    {
     "data": {
      "text/plain": [
       "array([[1., 2., 3.],\n",
       "       [4., 5., 6.]])"
      ]
     },
     "execution_count": 44,
     "metadata": {},
     "output_type": "execute_result"
    }
   ],
   "source": [
    "arr"
   ]
  },
  {
   "cell_type": "code",
   "execution_count": 36,
   "id": "a6bd8c37",
   "metadata": {},
   "outputs": [
    {
     "data": {
      "text/plain": [
       "array([[False,  True, False],\n",
       "       [ True, False,  True]])"
      ]
     },
     "execution_count": 36,
     "metadata": {},
     "output_type": "execute_result"
    }
   ],
   "source": [
    "arr2>arr"
   ]
  },
  {
   "cell_type": "markdown",
   "id": "ef481937",
   "metadata": {},
   "source": [
    "## Indexado y corte"
   ]
  },
  {
   "cell_type": "code",
   "execution_count": 45,
   "id": "67fe719d",
   "metadata": {},
   "outputs": [
    {
     "data": {
      "text/plain": [
       "array([0, 1, 2, 3, 4, 5, 6, 7, 8, 9])"
      ]
     },
     "execution_count": 45,
     "metadata": {},
     "output_type": "execute_result"
    }
   ],
   "source": [
    "arr = np.arange(10)\n",
    "arr"
   ]
  },
  {
   "cell_type": "code",
   "execution_count": 47,
   "id": "0d36f41c",
   "metadata": {},
   "outputs": [
    {
     "data": {
      "text/plain": [
       "5"
      ]
     },
     "execution_count": 47,
     "metadata": {},
     "output_type": "execute_result"
    }
   ],
   "source": [
    "arr[5]"
   ]
  },
  {
   "cell_type": "code",
   "execution_count": 48,
   "id": "ac18942f",
   "metadata": {},
   "outputs": [
    {
     "data": {
      "text/plain": [
       "array([5, 6, 7])"
      ]
     },
     "execution_count": 48,
     "metadata": {},
     "output_type": "execute_result"
    }
   ],
   "source": [
    "arr[5:8]"
   ]
  },
  {
   "cell_type": "code",
   "execution_count": 49,
   "id": "c7bacb68",
   "metadata": {},
   "outputs": [],
   "source": [
    "arr[5:8] = 12"
   ]
  },
  {
   "cell_type": "code",
   "execution_count": 50,
   "id": "ee371d58",
   "metadata": {},
   "outputs": [
    {
     "data": {
      "text/plain": [
       "array([ 0,  1,  2,  3,  4, 12, 12, 12,  8,  9])"
      ]
     },
     "execution_count": 50,
     "metadata": {},
     "output_type": "execute_result"
    }
   ],
   "source": [
    "arr"
   ]
  },
  {
   "cell_type": "code",
   "execution_count": 51,
   "id": "610516af",
   "metadata": {},
   "outputs": [],
   "source": [
    "arr_slice = arr[5:8]"
   ]
  },
  {
   "cell_type": "code",
   "execution_count": 52,
   "id": "8594d6f7",
   "metadata": {},
   "outputs": [
    {
     "data": {
      "text/plain": [
       "array([12, 12, 12])"
      ]
     },
     "execution_count": 52,
     "metadata": {},
     "output_type": "execute_result"
    }
   ],
   "source": [
    "arr_slice"
   ]
  },
  {
   "cell_type": "code",
   "execution_count": 53,
   "id": "b40bf6f1",
   "metadata": {},
   "outputs": [],
   "source": [
    "arr_slice[1] = 777"
   ]
  },
  {
   "cell_type": "code",
   "execution_count": 54,
   "id": "23c5ae13",
   "metadata": {},
   "outputs": [
    {
     "data": {
      "text/plain": [
       "array([ 12, 777,  12])"
      ]
     },
     "execution_count": 54,
     "metadata": {},
     "output_type": "execute_result"
    }
   ],
   "source": [
    "arr_slice"
   ]
  },
  {
   "cell_type": "markdown",
   "id": "a66e3696",
   "metadata": {},
   "source": [
    "Una importante primera distinción en las listas internas de Python es que los cortes de array son vistas del array original, lo que significa que los datos no se copian, y que cualquier modificación de la vista se verá reflejada en el array de origen."
   ]
  },
  {
   "cell_type": "code",
   "execution_count": 55,
   "id": "b7b41054",
   "metadata": {},
   "outputs": [
    {
     "data": {
      "text/plain": [
       "array([  0,   1,   2,   3,   4,  12, 777,  12,   8,   9])"
      ]
     },
     "execution_count": 55,
     "metadata": {},
     "output_type": "execute_result"
    }
   ],
   "source": [
    "arr"
   ]
  },
  {
   "cell_type": "markdown",
   "id": "22aff6b1",
   "metadata": {},
   "source": [
    "En un array bidimensional, los elementos de cada índice ya no son escalares, sino más bien arrays unidimensionales:"
   ]
  },
  {
   "cell_type": "code",
   "execution_count": 56,
   "id": "b93a6d24",
   "metadata": {},
   "outputs": [],
   "source": [
    "arr2d = np.array([[1, 2, 3], [4, 5, 6], [7, 8, 9]])"
   ]
  },
  {
   "cell_type": "code",
   "execution_count": 57,
   "id": "cca413e1",
   "metadata": {},
   "outputs": [
    {
     "data": {
      "text/plain": [
       "array([[1, 2, 3],\n",
       "       [4, 5, 6],\n",
       "       [7, 8, 9]])"
      ]
     },
     "execution_count": 57,
     "metadata": {},
     "output_type": "execute_result"
    }
   ],
   "source": [
    "arr2d"
   ]
  },
  {
   "cell_type": "code",
   "execution_count": 60,
   "id": "784b0a53",
   "metadata": {},
   "outputs": [
    {
     "data": {
      "text/plain": [
       "2"
      ]
     },
     "execution_count": 60,
     "metadata": {},
     "output_type": "execute_result"
    }
   ],
   "source": [
    "arr2d[0][1]"
   ]
  },
  {
   "attachments": {
    "m.png": {
     "image/png": "[encoded data removed]"
    }
   },
   "cell_type": "markdown",
   "id": "5fc8f278",
   "metadata": {},
   "source": [
    "![m.png](attachment:m.png)"
   ]
  },
  {
   "cell_type": "code",
   "execution_count": 48,
   "id": "39e0e7f7",
   "metadata": {},
   "outputs": [
    {
     "data": {
      "text/plain": [
       "3"
      ]
     },
     "execution_count": 48,
     "metadata": {},
     "output_type": "execute_result"
    }
   ],
   "source": [
    "arr2d[0][2]"
   ]
  },
  {
   "cell_type": "code",
   "execution_count": 62,
   "id": "f8fa5b45",
   "metadata": {},
   "outputs": [],
   "source": [
    "arr3d = np.array([[[1, 2, 3], [4, 5, 6]], [[7, 8, 9], [10, 11, 12]]])"
   ]
  },
  {
   "cell_type": "code",
   "execution_count": 63,
   "id": "f21ed168",
   "metadata": {},
   "outputs": [
    {
     "data": {
      "text/plain": [
       "array([[[ 1,  2,  3],\n",
       "        [ 4,  5,  6]],\n",
       "\n",
       "       [[ 7,  8,  9],\n",
       "        [10, 11, 12]]])"
      ]
     },
     "execution_count": 63,
     "metadata": {},
     "output_type": "execute_result"
    }
   ],
   "source": [
    "arr3d"
   ]
  },
  {
   "cell_type": "code",
   "execution_count": 64,
   "id": "a6240298",
   "metadata": {},
   "outputs": [
    {
     "data": {
      "text/plain": [
       "array([[1, 2, 3],\n",
       "       [4, 5, 6]])"
      ]
     },
     "execution_count": 64,
     "metadata": {},
     "output_type": "execute_result"
    }
   ],
   "source": [
    "arr3d[0]"
   ]
  },
  {
   "cell_type": "code",
   "execution_count": null,
   "id": "e1c6e7c5",
   "metadata": {},
   "outputs": [],
   "source": []
  },
  {
   "cell_type": "code",
   "execution_count": null,
   "id": "aca2c7a5",
   "metadata": {},
   "outputs": [],
   "source": []
  },
  {
   "cell_type": "code",
   "execution_count": null,
   "id": "39eee6d9",
   "metadata": {},
   "outputs": [],
   "source": []
  },
  {
   "cell_type": "code",
   "execution_count": null,
   "id": "421edd90",
   "metadata": {},
   "outputs": [],
   "source": []
  },
  {
   "cell_type": "code",
   "execution_count": null,
   "id": "71cbe986",
   "metadata": {},
   "outputs": [],
   "source": []
  },
  {
   "cell_type": "code",
   "execution_count": null,
   "id": "567aec5a",
   "metadata": {},
   "outputs": [],
   "source": []
  },
  {
   "cell_type": "markdown",
   "id": "53fa8e26",
   "metadata": {},
   "source": [
    "# Números aleatorios"
   ]
  },
  {
   "cell_type": "markdown",
   "id": "23be3ff2",
   "metadata": {},
   "source": [
    "La función **randrange(a, b, salto)** genera números enteros aleatorios comprendidos entre a y b separados entre sí con un salto."
   ]
  },
  {
   "cell_type": "code",
   "execution_count": 65,
   "id": "ee396c9f",
   "metadata": {},
   "outputs": [],
   "source": [
    "import random"
   ]
  },
  {
   "cell_type": "code",
   "execution_count": 69,
   "id": "4f88e5b8",
   "metadata": {},
   "outputs": [
    {
     "name": "stdout",
     "output_type": "stream",
     "text": [
      "5\n",
      "7\n",
      "17\n",
      "19\n",
      "23\n",
      "25\n",
      "23\n",
      "9\n"
     ]
    }
   ],
   "source": [
    "for i in range(8):\n",
    "    print(random.randrange(5, 27, 2))"
   ]
  },
  {
   "cell_type": "code",
   "execution_count": 71,
   "id": "2e10d91f",
   "metadata": {},
   "outputs": [
    {
     "name": "stdout",
     "output_type": "stream",
     "text": [
      "0.19715714488488478\n",
      "0.913132702873084\n",
      "0.8089539038311541\n",
      "0.430355203818086\n",
      "0.023095274970822532\n"
     ]
    }
   ],
   "source": [
    "import random # random() devuelve un float comprendido entre [0.0 y 1.0)\n",
    "\n",
    "for i in range(5):\n",
    "    print(random.random())\n"
   ]
  },
  {
   "cell_type": "markdown",
   "id": "eb0cea71",
   "metadata": {},
   "source": [
    " choice() devuelve un elemento aleatorio de una lista."
   ]
  },
  {
   "cell_type": "code",
   "execution_count": 75,
   "id": "979df33e",
   "metadata": {},
   "outputs": [
    {
     "name": "stdout",
     "output_type": "stream",
     "text": [
      "peras\n",
      "mangos\n",
      "plátanos\n",
      "manzanas\n"
     ]
    }
   ],
   "source": [
    "import random\n",
    "\n",
    "frutas = ['peras', 'manzanas', 'plátanos', 'ciruelas','mangos']\n",
    "\n",
    "for i in range(4):\n",
    "    print(random.choice(frutas))\n"
   ]
  },
  {
   "cell_type": "markdown",
   "id": "3930862a",
   "metadata": {},
   "source": [
    "La función **shuffle()** modifica el orden de los elementos de una lista. Esta función se asemeja a la acción de mezclar una baraja."
   ]
  },
  {
   "cell_type": "code",
   "execution_count": 79,
   "id": "56093120",
   "metadata": {},
   "outputs": [
    {
     "name": "stdout",
     "output_type": "stream",
     "text": [
      "[4, 11, 2, 5, 3, 7, 1, 10, 12, 6]\n",
      "[4, 3, 10, 6, 2, 7, 11, 12, 1, 5]\n",
      "[3, 4, 6, 12, 7, 10, 11, 2, 1, 5]\n"
     ]
    }
   ],
   "source": [
    "import random\n",
    "\n",
    "baraja = [1, 2, 3, 4, 5, 6, 7, 10, 11, 12]\n",
    "\n",
    "for i in range(3):\n",
    "    random.shuffle(baraja)\n",
    "    print(baraja)"
   ]
  },
  {
   "cell_type": "markdown",
   "id": "ae329328",
   "metadata": {},
   "source": [
    "El módulo numpy.random complementa el módulo random interno de\n",
    "Python con funciones para generar de forma eficaz arrays enteros de valores de muestra de muchos tipos de distribuciones de probabilidad. "
   ]
  },
  {
   "cell_type": "code",
   "execution_count": 86,
   "id": "10d2c1ea",
   "metadata": {},
   "outputs": [],
   "source": [
    "samples = np.random.standard_normal(size=(4, 4))"
   ]
  },
  {
   "cell_type": "code",
   "execution_count": 87,
   "id": "eaed37d5",
   "metadata": {},
   "outputs": [
    {
     "data": {
      "text/plain": [
       "array([[ 0.94783324,  0.26241306, -0.50893284, -1.62681143],\n",
       "       [ 0.36032561, -1.58783335,  0.67579632, -1.70353136],\n",
       "       [ 0.46445697,  2.40403666,  0.36414341, -0.31222883],\n",
       "       [-0.71295737,  1.7593358 ,  0.25908876, -0.91353211]])"
      ]
     },
     "execution_count": 87,
     "metadata": {},
     "output_type": "execute_result"
    }
   ],
   "source": [
    "samples"
   ]
  },
  {
   "cell_type": "markdown",
   "id": "3d73cad2",
   "metadata": {},
   "source": [
    "### Funciones rápidas de array elemento a elemento"
   ]
  },
  {
   "cell_type": "code",
   "execution_count": 88,
   "id": "1b087ec2",
   "metadata": {},
   "outputs": [],
   "source": [
    "arr = np.arange(10)"
   ]
  },
  {
   "cell_type": "code",
   "execution_count": 89,
   "id": "8eb8ef36",
   "metadata": {},
   "outputs": [
    {
     "data": {
      "text/plain": [
       "array([0, 1, 2, 3, 4, 5, 6, 7, 8, 9])"
      ]
     },
     "execution_count": 89,
     "metadata": {},
     "output_type": "execute_result"
    }
   ],
   "source": [
    "arr"
   ]
  },
  {
   "cell_type": "code",
   "execution_count": 90,
   "id": "0082357d",
   "metadata": {},
   "outputs": [
    {
     "data": {
      "text/plain": [
       "array([0.        , 1.        , 1.41421356, 1.73205081, 2.        ,\n",
       "       2.23606798, 2.44948974, 2.64575131, 2.82842712, 3.        ])"
      ]
     },
     "execution_count": 90,
     "metadata": {},
     "output_type": "execute_result"
    }
   ],
   "source": [
    "np.sqrt(arr)"
   ]
  },
  {
   "cell_type": "code",
   "execution_count": 91,
   "id": "9ea65770",
   "metadata": {},
   "outputs": [
    {
     "data": {
      "text/plain": [
       "array([1.00000000e+00, 2.71828183e+00, 7.38905610e+00, 2.00855369e+01,\n",
       "       5.45981500e+01, 1.48413159e+02, 4.03428793e+02, 1.09663316e+03,\n",
       "       2.98095799e+03, 8.10308393e+03])"
      ]
     },
     "execution_count": 91,
     "metadata": {},
     "output_type": "execute_result"
    }
   ],
   "source": [
    "np.exp(arr)"
   ]
  },
  {
   "cell_type": "code",
   "execution_count": null,
   "id": "c8d07812",
   "metadata": {},
   "outputs": [],
   "source": []
  },
  {
   "cell_type": "code",
   "execution_count": null,
   "id": "e1e6334a",
   "metadata": {},
   "outputs": [],
   "source": []
  },
  {
   "cell_type": "code",
   "execution_count": null,
   "id": "be3c4ca4",
   "metadata": {},
   "outputs": [],
   "source": []
  },
  {
   "cell_type": "markdown",
   "id": "5195b54b",
   "metadata": {},
   "source": [
    "## Programación orientada a arrays"
   ]
  },
  {
   "cell_type": "markdown",
   "id": "a5d30504",
   "metadata": {},
   "source": [
    "Supongamos que queremos definir un área de dos dimensiones formada por los puntos de coordenadas $x = 0, 1, 2$ y $y = 0, 1,2$"
   ]
  },
  {
   "attachments": {
    "function_meshgrid.JPG": {
     "image/jpeg": "[encoded data removed]"
    }
   },
   "cell_type": "markdown",
   "id": "6a19867c",
   "metadata": {},
   "source": [
    "![function_meshgrid.JPG](attachment:function_meshgrid.JPG)"
   ]
  },
  {
   "cell_type": "markdown",
   "id": "11b20556",
   "metadata": {},
   "source": [
    "El objetivo es obtener dos arrays, cada uno de tamaño (3, 3) en los que se incluyan las coordenadas x e y (por separado) de los 9 puntos en cuestión. Esto es exactamente lo que hace la función **meshgrid:** acepta como entrada las coordenadas que definen el segmento del hiperplano (puede tratarse de dos dimensiones o de cualquier otro número de ellas) y devuelve arrays con las coordenadas de dichos puntos:"
   ]
  },
  {
   "cell_type": "code",
   "execution_count": 92,
   "id": "47fb44df",
   "metadata": {},
   "outputs": [],
   "source": [
    "cordx = [0,1,2]\n",
    "cordy = [0,1,2]\n",
    "\n",
    "x,y=np.meshgrid(cordx,cordy)"
   ]
  },
  {
   "cell_type": "code",
   "execution_count": 93,
   "id": "1545f234",
   "metadata": {},
   "outputs": [
    {
     "data": {
      "text/plain": [
       "array([[0, 1, 2],\n",
       "       [0, 1, 2],\n",
       "       [0, 1, 2]])"
      ]
     },
     "execution_count": 93,
     "metadata": {},
     "output_type": "execute_result"
    }
   ],
   "source": [
    "x"
   ]
  },
  {
   "cell_type": "code",
   "execution_count": 94,
   "id": "fb31a262",
   "metadata": {},
   "outputs": [
    {
     "data": {
      "text/plain": [
       "array([[0, 0, 0],\n",
       "       [1, 1, 1],\n",
       "       [2, 2, 2]])"
      ]
     },
     "execution_count": 94,
     "metadata": {},
     "output_type": "execute_result"
    }
   ],
   "source": [
    "y"
   ]
  },
  {
   "cell_type": "markdown",
   "id": "897a6636",
   "metadata": {},
   "source": [
    "Supongamos que queremos evaluar la función\n",
    "\n",
    "\n",
    "$$\n",
    "\\sqrt{x^2+y^2}\n",
    "$$\n",
    "\n",
    " a lo largo de una cuadrícula de valores."
   ]
  },
  {
   "cell_type": "code",
   "execution_count": 95,
   "id": "ff0cb321",
   "metadata": {},
   "outputs": [],
   "source": [
    "points = np.arange(-5, 5, 0.5) # 100 puntos espaciados por igual"
   ]
  },
  {
   "cell_type": "code",
   "execution_count": 97,
   "id": "25ad2f63",
   "metadata": {},
   "outputs": [],
   "source": [
    "x, y = np.meshgrid(points, points)"
   ]
  },
  {
   "cell_type": "code",
   "execution_count": 100,
   "id": "38a32cb0",
   "metadata": {},
   "outputs": [],
   "source": [
    "z = np.sqrt(x ** 2 + y ** 2)"
   ]
  },
  {
   "cell_type": "code",
   "execution_count": 103,
   "id": "bdd39755",
   "metadata": {},
   "outputs": [
    {
     "data": {
      "text/plain": [
       "array([[7.07106781, 6.72681202, 6.40312424, 6.10327781, 5.83095189,\n",
       "        5.59016994, 5.38516481, 5.22015325, 5.09901951, 5.02493781,\n",
       "        5.        , 5.02493781, 5.09901951, 5.22015325, 5.38516481,\n",
       "        5.59016994, 5.83095189, 6.10327781, 6.40312424, 6.72681202],\n",
       "       [6.72681202, 6.36396103, 6.02079729, 5.70087713, 5.40832691,\n",
       "        5.14781507, 4.9244289 , 4.74341649, 4.60977223, 4.52769257,\n",
       "        4.5       , 4.52769257, 4.60977223, 4.74341649, 4.9244289 ,\n",
       "        5.14781507, 5.40832691, 5.70087713, 6.02079729, 6.36396103],\n",
       "       [6.40312424, 6.02079729, 5.65685425, 5.31507291, 5.        ,\n",
       "        4.71699057, 4.47213595, 4.27200187, 4.12310563, 4.03112887,\n",
       "        4.        , 4.03112887, 4.12310563, 4.27200187, 4.47213595,\n",
       "        4.71699057, 5.        , 5.31507291, 5.65685425, 6.02079729],\n",
       "       [6.10327781, 5.70087713, 5.31507291, 4.94974747, 4.60977223,\n",
       "        4.30116263, 4.03112887, 3.80788655, 3.64005494, 3.53553391,\n",
       "        3.5       , 3.53553391, 3.64005494, 3.80788655, 4.03112887,\n",
       "        4.30116263, 4.60977223, 4.94974747, 5.31507291, 5.70087713],\n",
       "       [5.83095189, 5.40832691, 5.        , 4.60977223, 4.24264069,\n",
       "        3.90512484, 3.60555128, 3.35410197, 3.16227766, 3.04138127,\n",
       "        3.        , 3.04138127, 3.16227766, 3.35410197, 3.60555128,\n",
       "        3.90512484, 4.24264069, 4.60977223, 5.        , 5.40832691],\n",
       "       [5.59016994, 5.14781507, 4.71699057, 4.30116263, 3.90512484,\n",
       "        3.53553391, 3.20156212, 2.91547595, 2.6925824 , 2.54950976,\n",
       "        2.5       , 2.54950976, 2.6925824 , 2.91547595, 3.20156212,\n",
       "        3.53553391, 3.90512484, 4.30116263, 4.71699057, 5.14781507],\n",
       "       [5.38516481, 4.9244289 , 4.47213595, 4.03112887, 3.60555128,\n",
       "        3.20156212, 2.82842712, 2.5       , 2.23606798, 2.06155281,\n",
       "        2.        , 2.06155281, 2.23606798, 2.5       , 2.82842712,\n",
       "        3.20156212, 3.60555128, 4.03112887, 4.47213595, 4.9244289 ],\n",
       "       [5.22015325, 4.74341649, 4.27200187, 3.80788655, 3.35410197,\n",
       "        2.91547595, 2.5       , 2.12132034, 1.80277564, 1.58113883,\n",
       "        1.5       , 1.58113883, 1.80277564, 2.12132034, 2.5       ,\n",
       "        2.91547595, 3.35410197, 3.80788655, 4.27200187, 4.74341649],\n",
       "       [5.09901951, 4.60977223, 4.12310563, 3.64005494, 3.16227766,\n",
       "        2.6925824 , 2.23606798, 1.80277564, 1.41421356, 1.11803399,\n",
       "        1.        , 1.11803399, 1.41421356, 1.80277564, 2.23606798,\n",
       "        2.6925824 , 3.16227766, 3.64005494, 4.12310563, 4.60977223],\n",
       "       [5.02493781, 4.52769257, 4.03112887, 3.53553391, 3.04138127,\n",
       "        2.54950976, 2.06155281, 1.58113883, 1.11803399, 0.70710678,\n",
       "        0.5       , 0.70710678, 1.11803399, 1.58113883, 2.06155281,\n",
       "        2.54950976, 3.04138127, 3.53553391, 4.03112887, 4.52769257],\n",
       "       [5.        , 4.5       , 4.        , 3.5       , 3.        ,\n",
       "        2.5       , 2.        , 1.5       , 1.        , 0.5       ,\n",
       "        0.        , 0.5       , 1.        , 1.5       , 2.        ,\n",
       "        2.5       , 3.        , 3.5       , 4.        , 4.5       ],\n",
       "       [5.02493781, 4.52769257, 4.03112887, 3.53553391, 3.04138127,\n",
       "        2.54950976, 2.06155281, 1.58113883, 1.11803399, 0.70710678,\n",
       "        0.5       , 0.70710678, 1.11803399, 1.58113883, 2.06155281,\n",
       "        2.54950976, 3.04138127, 3.53553391, 4.03112887, 4.52769257],\n",
       "       [5.09901951, 4.60977223, 4.12310563, 3.64005494, 3.16227766,\n",
       "        2.6925824 , 2.23606798, 1.80277564, 1.41421356, 1.11803399,\n",
       "        1.        , 1.11803399, 1.41421356, 1.80277564, 2.23606798,\n",
       "        2.6925824 , 3.16227766, 3.64005494, 4.12310563, 4.60977223],\n",
       "       [5.22015325, 4.74341649, 4.27200187, 3.80788655, 3.35410197,\n",
       "        2.91547595, 2.5       , 2.12132034, 1.80277564, 1.58113883,\n",
       "        1.5       , 1.58113883, 1.80277564, 2.12132034, 2.5       ,\n",
       "        2.91547595, 3.35410197, 3.80788655, 4.27200187, 4.74341649],\n",
       "       [5.38516481, 4.9244289 , 4.47213595, 4.03112887, 3.60555128,\n",
       "        3.20156212, 2.82842712, 2.5       , 2.23606798, 2.06155281,\n",
       "        2.        , 2.06155281, 2.23606798, 2.5       , 2.82842712,\n",
       "        3.20156212, 3.60555128, 4.03112887, 4.47213595, 4.9244289 ],\n",
       "       [5.59016994, 5.14781507, 4.71699057, 4.30116263, 3.90512484,\n",
       "        3.53553391, 3.20156212, 2.91547595, 2.6925824 , 2.54950976,\n",
       "        2.5       , 2.54950976, 2.6925824 , 2.91547595, 3.20156212,\n",
       "        3.53553391, 3.90512484, 4.30116263, 4.71699057, 5.14781507],\n",
       "       [5.83095189, 5.40832691, 5.        , 4.60977223, 4.24264069,\n",
       "        3.90512484, 3.60555128, 3.35410197, 3.16227766, 3.04138127,\n",
       "        3.        , 3.04138127, 3.16227766, 3.35410197, 3.60555128,\n",
       "        3.90512484, 4.24264069, 4.60977223, 5.        , 5.40832691],\n",
       "       [6.10327781, 5.70087713, 5.31507291, 4.94974747, 4.60977223,\n",
       "        4.30116263, 4.03112887, 3.80788655, 3.64005494, 3.53553391,\n",
       "        3.5       , 3.53553391, 3.64005494, 3.80788655, 4.03112887,\n",
       "        4.30116263, 4.60977223, 4.94974747, 5.31507291, 5.70087713],\n",
       "       [6.40312424, 6.02079729, 5.65685425, 5.31507291, 5.        ,\n",
       "        4.71699057, 4.47213595, 4.27200187, 4.12310563, 4.03112887,\n",
       "        4.        , 4.03112887, 4.12310563, 4.27200187, 4.47213595,\n",
       "        4.71699057, 5.        , 5.31507291, 5.65685425, 6.02079729],\n",
       "       [6.72681202, 6.36396103, 6.02079729, 5.70087713, 5.40832691,\n",
       "        5.14781507, 4.9244289 , 4.74341649, 4.60977223, 4.52769257,\n",
       "        4.5       , 4.52769257, 4.60977223, 4.74341649, 4.9244289 ,\n",
       "        5.14781507, 5.40832691, 5.70087713, 6.02079729, 6.36396103]])"
      ]
     },
     "execution_count": 103,
     "metadata": {},
     "output_type": "execute_result"
    }
   ],
   "source": [
    "z"
   ]
  },
  {
   "cell_type": "code",
   "execution_count": 102,
   "id": "15538182",
   "metadata": {},
   "outputs": [
    {
     "data": {
      "text/plain": [
       "<function matplotlib.pyplot.show(close=None, block=None)>"
      ]
     },
     "execution_count": 102,
     "metadata": {},
     "output_type": "execute_result"
    },
    {
     "data": {
      "image/png": "[encoded data removed]",
      "text/plain": [
       "<Figure size 640x480 with 2 Axes>"
      ]
     },
     "metadata": {},
     "output_type": "display_data"
    }
   ],
   "source": [
    "import matplotlib.pyplot as plt\n",
    "\n",
    "plt.imshow(z, cmap='summer', extent=[-5, 5, -5, 5])\n",
    "plt.colorbar()\n",
    "plt.title('Gráfica de $\\sqrt{x^2 + y^2}$ para una cuadrícula de valores')\n",
    "plt.show"
   ]
  },
  {
   "cell_type": "markdown",
   "id": "7ee3bd74",
   "metadata": {},
   "source": [
    "### Métodos estadísticos "
   ]
  },
  {
   "cell_type": "markdown",
   "id": "f1e56bda",
   "metadata": {},
   "source": [
    "Los números aleatorios no lo son realmente (son más bien pseudoaleatorios); en realidad los produce un generador de números aleatorios configurable, que determina de forma preestablecida qué valores se crean. "
   ]
  },
  {
   "cell_type": "code",
   "execution_count": 116,
   "id": "0e8c3a8d",
   "metadata": {
    "scrolled": true
   },
   "outputs": [],
   "source": [
    "rng = np.random.default_rng(seed=123) #El argumento seed determina \n",
    "                                    #el estado inicial del generador\n",
    "\n",
    "arr = rng.standard_normal((5, 4))"
   ]
  },
  {
   "cell_type": "code",
   "execution_count": 117,
   "id": "67996d13",
   "metadata": {},
   "outputs": [
    {
     "data": {
      "text/plain": [
       "array([[-0.98912135, -0.36778665,  1.28792526,  0.19397442],\n",
       "       [ 0.9202309 ,  0.57710379, -0.63646365,  0.54195222],\n",
       "       [-0.31659545, -0.32238912,  0.09716732, -1.52593041],\n",
       "       [ 1.1921661 , -0.67108968,  1.00026942,  0.13632112],\n",
       "       [ 1.53203308, -0.65996941, -0.31179486,  0.33776913]])"
      ]
     },
     "execution_count": 117,
     "metadata": {},
     "output_type": "execute_result"
    }
   ],
   "source": [
    "arr"
   ]
  },
  {
   "cell_type": "markdown",
   "id": "ddfec7a9",
   "metadata": {},
   "source": [
    "Es posible acceder a un conjunto de funciones matemáticas, que calculan estadísticas sobre un array completo."
   ]
  },
  {
   "cell_type": "code",
   "execution_count": 118,
   "id": "53300e8d",
   "metadata": {},
   "outputs": [
    {
     "data": {
      "text/plain": [
       "0.10078860983676444"
      ]
     },
     "execution_count": 118,
     "metadata": {},
     "output_type": "execute_result"
    }
   ],
   "source": [
    "arr.mean() # np.mean(arr)"
   ]
  },
  {
   "cell_type": "code",
   "execution_count": 119,
   "id": "6cacc549",
   "metadata": {},
   "outputs": [
    {
     "data": {
      "text/plain": [
       "2.0157721967352886"
      ]
     },
     "execution_count": 119,
     "metadata": {},
     "output_type": "execute_result"
    }
   ],
   "source": [
    "arr.sum()"
   ]
  },
  {
   "cell_type": "markdown",
   "id": "52d2eac1",
   "metadata": {},
   "source": [
    "Funciones como **mean** y **sum** toman un argumento axis opcional, que calcula la estadística sobre el eje dado"
   ]
  },
  {
   "cell_type": "code",
   "execution_count": 121,
   "id": "3ecebaac",
   "metadata": {},
   "outputs": [
    {
     "data": {
      "text/plain": [
       "array([[-0.98912135, -0.36778665,  1.28792526,  0.19397442],\n",
       "       [ 0.9202309 ,  0.57710379, -0.63646365,  0.54195222],\n",
       "       [-0.31659545, -0.32238912,  0.09716732, -1.52593041],\n",
       "       [ 1.1921661 , -0.67108968,  1.00026942,  0.13632112],\n",
       "       [ 1.53203308, -0.65996941, -0.31179486,  0.33776913]])"
      ]
     },
     "execution_count": 121,
     "metadata": {},
     "output_type": "execute_result"
    }
   ],
   "source": [
    "arr"
   ]
  },
  {
   "cell_type": "code",
   "execution_count": 120,
   "id": "9c590e82",
   "metadata": {},
   "outputs": [
    {
     "data": {
      "text/plain": [
       "array([ 0.03124792,  0.35070582, -0.51693691,  0.41441674,  0.22450948])"
      ]
     },
     "execution_count": 120,
     "metadata": {},
     "output_type": "execute_result"
    }
   ],
   "source": [
    "arr.mean(axis=1)"
   ]
  },
  {
   "cell_type": "code",
   "execution_count": 123,
   "id": "dac7fd4d",
   "metadata": {},
   "outputs": [
    {
     "data": {
      "text/plain": [
       "array([ 0.46774266, -0.28882621,  0.2874207 , -0.0631827 ])"
      ]
     },
     "execution_count": 123,
     "metadata": {},
     "output_type": "execute_result"
    }
   ],
   "source": [
    "arr.mean(axis=0)"
   ]
  },
  {
   "cell_type": "markdown",
   "id": "1a1c18e2",
   "metadata": {},
   "source": [
    "### Álgebra lineal con array\n"
   ]
  },
  {
   "cell_type": "code",
   "execution_count": 124,
   "id": "d24e78c7",
   "metadata": {},
   "outputs": [],
   "source": [
    "x = np.array([[1., 2., 3.], [4., 5., 6.]])\n",
    "y = np.array([[6., 23.], [-1, 7], [8, 9]])"
   ]
  },
  {
   "cell_type": "code",
   "execution_count": 125,
   "id": "bc3683d9",
   "metadata": {},
   "outputs": [
    {
     "data": {
      "text/plain": [
       "array([[1., 2., 3.],\n",
       "       [4., 5., 6.]])"
      ]
     },
     "execution_count": 125,
     "metadata": {},
     "output_type": "execute_result"
    }
   ],
   "source": [
    "x"
   ]
  },
  {
   "cell_type": "code",
   "execution_count": 126,
   "id": "a43a00da",
   "metadata": {},
   "outputs": [
    {
     "data": {
      "text/plain": [
       "array([[ 6., 23.],\n",
       "       [-1.,  7.],\n",
       "       [ 8.,  9.]])"
      ]
     },
     "execution_count": 126,
     "metadata": {},
     "output_type": "execute_result"
    }
   ],
   "source": [
    "y"
   ]
  },
  {
   "cell_type": "markdown",
   "id": "06bfd603",
   "metadata": {},
   "source": [
    " Multiplicaciones de matrices"
   ]
  },
  {
   "cell_type": "code",
   "execution_count": 127,
   "id": "2a34588f",
   "metadata": {},
   "outputs": [
    {
     "data": {
      "text/plain": [
       "array([[ 28.,  64.],\n",
       "       [ 67., 181.]])"
      ]
     },
     "execution_count": 127,
     "metadata": {},
     "output_type": "execute_result"
    }
   ],
   "source": [
    "x.dot(y) #np.dot(x, y)"
   ]
  },
  {
   "cell_type": "markdown",
   "id": "4063c1bf",
   "metadata": {},
   "source": []
  },
  {
   "cell_type": "code",
   "execution_count": 124,
   "id": "ff8eb906",
   "metadata": {},
   "outputs": [],
   "source": []
  },
  {
   "cell_type": "code",
   "execution_count": 127,
   "id": "8855d2aa",
   "metadata": {},
   "outputs": [],
   "source": []
  },
  {
   "cell_type": "code",
   "execution_count": null,
   "id": "4c8d4856",
   "metadata": {},
   "outputs": [],
   "source": []
  }
 ],
 "metadata": {
  "kernelspec": {
   "display_name": "Python 3 (ipykernel)",
   "language": "python",
   "name": "python3"
  },
  "language_info": {
   "codemirror_mode": {
    "name": "ipython",
    "version": 3
   },
   "file_extension": ".py",
   "mimetype": "text/x-python",
   "name": "python",
   "nbconvert_exporter": "python",
   "pygments_lexer": "ipython3",
   "version": "3.11.3"
  }
 },
 "nbformat": 4,
 "nbformat_minor": 5
}
