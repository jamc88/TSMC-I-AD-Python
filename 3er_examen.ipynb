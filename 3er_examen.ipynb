{
 "cells": [
  {
   "cell_type": "markdown",
   "id": "6ba49864",
   "metadata": {},
   "source": [
    "# 3er Examen parcial\n",
    "\n",
    "### TSMC-I: Análisis de datos en Python\n",
    "\n",
    "Jueves 8 de febrero de 2024"
   ]
  },
  {
   "cell_type": "markdown",
   "id": "d19a1985",
   "metadata": {},
   "source": [
    "**1. (20 puntos)** Cargue los datos de los precios en bolsa del Bitcoin (BTC-USD.csv en github) correspondientes a los años 2019-2023 y realice lo siguiente:\n",
    "\n",
    "* Obtenga un índice datetime de nombre 'Date' con las fechas correspondientes e indexe los datos.\n",
    "\n",
    "* Obtenga una gráfica de la serie temporal de los precios de Cierre.\n",
    "\n",
    "* Obtenga un DataFrame indexado por el año que muestre el precio de cierre medio por cada año.\n"
   ]
  },
  {
   "cell_type": "markdown",
   "id": "a5827588",
   "metadata": {},
   "source": [
    "**2. (40 puntos)** Cargue los datos meteorológicos (redmet_2023_05.csv en github). Sobre los datos de humedad relativa (RH) y realice lo siguiente:\n",
    "\n",
    "* Realice un gráfico de línea de la serie temporal.\n",
    "\n",
    "* Realice un gráfico de su distribución.\n",
    "\n",
    "* ¿Los datos tienen una distribución normal? Realice una prueba estadística para confirmarlo.\n",
    "\n",
    "* Particione los datos en 4 grupos y obtenga un Dataframe con el mínimo, máximo, media y frecuencia de los datos en cada grupo.\n",
    "\n",
    "* Obtenga un Dataframe indexado por trimestre que muestre la media de RH en cada uno de estos.\n",
    "\n",
    "* Realice una suavización con una ventana de tamaño 100. ¿Qué puede observar acerca de la estacionariedad?\n",
    "\n",
    "* Realice una prueba estadística para confirmar si los datos son o no son estacionarios.\n"
   ]
  },
  {
   "cell_type": "markdown",
   "id": "aea34756",
   "metadata": {},
   "source": [
    "**3. (40 puntos)** Cargue los datos de personas   registradas en el Registro Nacional de Personas Desaparecidas y No Localizadas (RNPDNO), actualizado hasta agosto de 2023 (VP_RNPDNO_2023.csv). Posteriormente, realice lo siguiente: \n",
    "\n",
    "* Coloque correctamente en nombre de las columnas.\n",
    "\n",
    "* Sustituya con un 0 los valores nulos y las cadenas 'ELIMINADO 2' en la columna edad.\n",
    "\n",
    "* Sustituya las cadenas 'ELIMINADO 5' por '01/01/24' en la columna Fecha de desaparición.\n",
    "\n",
    "* El resto de cadenas que contiene la cadena 'ELIMINADO' deben ser sustituidas por 'SE DESCONOCE'.\n",
    "\n",
    "* Agregue una columna del año de desaparición.\n",
    "\n",
    "* Indexe el Dataframe por fecha de desaparición con un índice datetime y ordene el índice en orden ascendente.\n",
    "\n",
    "* Elimine las filas con fechas posteriores al año 2024 (use el método truncate).\n",
    "\n",
    "* Obtenga un Dataframe indexado por año (2000 al 2023) que contenga el número de personas registradas en el RNPDNO por año.\n",
    "\n",
    "* ¿Qué porcentaje de personas registradas en el RNPDNO no tiene fecha de registro de desaparición?\n",
    "\n",
    "* ¿Cuántas personas hay por sexo, registradas en el RNPDNO? Obtenga un gráfico que ilustre esto.\n",
    "\n",
    "* Obtenga un Dataframe de personas registradas en el RNPDNO por entidad de desaparición (en orden descendente) y obtenga un gráfico que ilustre esto.\n",
    "\n",
    "* Obtenga un Dataframe de personas registradas en el RNPDNO por nacionalidad (en orden descendente) y obtenga un gráfico que ilustre esto.\n",
    "\n",
    "* ¿Cuáles son sus conclusiones?\n"
   ]
  },
  {
   "cell_type": "code",
   "execution_count": null,
   "id": "bfe64bd4",
   "metadata": {},
   "outputs": [],
   "source": []
  }
 ],
 "metadata": {
  "kernelspec": {
   "display_name": "Python 3 (ipykernel)",
   "language": "python",
   "name": "python3"
  },
  "language_info": {
   "codemirror_mode": {
    "name": "ipython",
    "version": 3
   },
   "file_extension": ".py",
   "mimetype": "text/x-python",
   "name": "python",
   "nbconvert_exporter": "python",
   "pygments_lexer": "ipython3",
   "version": "3.11.3"
  }
 },
 "nbformat": 4,
 "nbformat_minor": 5
}
