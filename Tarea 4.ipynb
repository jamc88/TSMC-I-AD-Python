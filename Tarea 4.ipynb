{
 "cells": [
  {
   "cell_type": "markdown",
   "id": "a2e3cde1",
   "metadata": {},
   "source": [
    "# Tarea 4\n",
    "\n",
    "### TSMC-I: Análisis de datos en Python\n",
    "\n",
    "Fecha de entrega: Miercoles 17 de enero de 2024\n"
   ]
  },
  {
   "cell_type": "markdown",
   "id": "b63a23fd",
   "metadata": {},
   "source": [
    "**1.** Con el parámetro chunksize cargue los datos de 30,000 victimas en carpetas de investigación de la FGJ (*delitos_2023.csv* en Github) y realice lo siguiente:\n",
    "\n",
    "* Obtenga un Dataframe con la frecuencia de los delitos en orden descendente y un gráfico que ilustre los primeros 15 delitos con más frecuencia. \n",
    "\n",
    "* Obtenga un Dataframe con los delitos cometidos por alcaldía y un gráfico que ilustre esto.\n",
    "\n",
    "* Obtenga un Dataframe con los delitos cometidos por categoría y un gráfico que ilustre esto.\n",
    "\n",
    "* ¿Cuales son las 5 colonias donde se han registrado más delitos?\n",
    "\n",
    "* ¿En que hora se registraron más delitos?\n",
    "\n",
    "* ¿Cuales son las 3 alcaldias que registraron menos delitos?"
   ]
  },
  {
   "cell_type": "markdown",
   "id": "ba8d680a",
   "metadata": {},
   "source": [
    "**2.** Extraiga las tablas que aparecen en la página web:\n",
    "\n",
    "https://es.wikipedia.org/wiki/Primera_Divisi%C3%B3n_de_M%C3%A9xico\n",
    "\n",
    "y realice lo siguiente:\n",
    "\n",
    "* Obtenga un gráfico de la capacidad de los estadios de la liga mx en orden descendente.\n",
    "\n",
    "* Obtenga un gráfico de los 10 equipos con más títulos en orden ascendente.\n",
    "\n",
    "* Obtenga un gráfico de directores técnicos con más títulos en orden ascendente.\n",
    "\n",
    "* De la tabla de directores técnicos con más títulos conteste lo siguiente: ¿Cuantos de estos directores técnicos conquistaron un título con Guadalajara? ¿Cuantos de estos directores técnicos conquistaron un título con América? (Utilice variables dummy)."
   ]
  },
  {
   "cell_type": "markdown",
   "id": "b2809279",
   "metadata": {},
   "source": [
    "**3.** Cargue los datos de los ingresos de la Ciudad de México en el año 2021 (ingresos_CDMX_2021.csv en GitHub) y realice lo siguiente:\n",
    "\n",
    "* Elimine la cadena \"desc_\" en cada columna que la contenga.\n",
    "\n",
    "* Limpie las cadenas de caracteres contenidas en las columnas\n",
    "(esto es, elimine caracteres como Û, ¢, °, Ì, etc.)\n",
    "\n",
    "* La única variable numérica debe ser la variable \"monto_recaudado\".\n",
    "\n",
    "* Obtenga un Dataframe que describa el monto recaudado en cada rubro. Obtenga una gráfica que ilustre esto.\n",
    "\n",
    "* Obtenga un Dataframe que describa el monto recaudado en cada rubro y el tipo de rubro.\n",
    "\n",
    "* Obtenga un Dataframe que describa el monto recaudado en cada trimestre.  Obtenga una gráfica que ilustre esto.\n",
    "\n",
    "* Obtenga un Dataframe que describa el monto recaudado en cada rubro en los tres trimestres.  Obtenga una gráfica que ilustre esto.\n",
    "\n",
    "* Coloque en orden alfabético el Dataframe anterior de acuerdo al rubro (1er índice).\n",
    "\n",
    "* ¿Cuál fue el monto total recaudado por la CDMX en 2021?\n",
    "\n",
    "* ¿De cuánto fue el endeudamiento interno?"
   ]
  },
  {
   "cell_type": "markdown",
   "id": "2736f17a",
   "metadata": {},
   "source": [
    "**4.** Cargue en un objeto 'defunciones' las columnas 'edad','sexo','estado' y 'alcaldia' de los datos de las actas de defunción de la Ciudad de México (defunciones_CDMX.csv en GitHub) y realice lo siguiente:\n",
    "\n",
    "* Agrupe en edades de 10 años: (0, 10], (10, 20], ... y calcule la frecuencia de defunciones en estos grupos (usar pandas.cut).\n",
    "\n",
    "* Añada a defunciones una columna con el grupo etario de cada persona:\n",
    "\n",
    "    Niñez (de 0 a 11 años)\n",
    "    \n",
    "    Adolescencia (de 12 a 18 años)\n",
    "    \n",
    "    Juventud (de 19 a 30 años)\n",
    "    \n",
    "    Adultez (de 30 a 60 años)\n",
    "    \n",
    "    Vejez (de 60 años en adelante)\n",
    "    \n",
    "\n",
    "* Obtenga un Dataframe que contenga la cantidad de defunciones por grupo etario e ilustre con una gráfica.\n"
   ]
  },
  {
   "cell_type": "code",
   "execution_count": null,
   "id": "945caf20",
   "metadata": {},
   "outputs": [],
   "source": []
  },
  {
   "cell_type": "code",
   "execution_count": null,
   "id": "2270b613",
   "metadata": {},
   "outputs": [],
   "source": []
  }
 ],
 "metadata": {
  "kernelspec": {
   "display_name": "Python 3 (ipykernel)",
   "language": "python",
   "name": "python3"
  },
  "language_info": {
   "codemirror_mode": {
    "name": "ipython",
    "version": 3
   },
   "file_extension": ".py",
   "mimetype": "text/x-python",
   "name": "python",
   "nbconvert_exporter": "python",
   "pygments_lexer": "ipython3",
   "version": "3.9.6"
  }
 },
 "nbformat": 4,
 "nbformat_minor": 5
}
