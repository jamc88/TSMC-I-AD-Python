{
 "cells": [
  {
   "cell_type": "markdown",
   "id": "327e5470",
   "metadata": {},
   "source": [
    "## Fechas y horas"
   ]
  },
  {
   "cell_type": "markdown",
   "id": "5e1abb53",
   "metadata": {},
   "source": [
    "El módulo **datetime** integrado de Python ofrece los tipos datetime, date y time. El tipo datetime combina la información almacenada en date y time y es el más utilizado:\n"
   ]
  },
  {
   "cell_type": "code",
   "execution_count": 2,
   "id": "5c4aed28",
   "metadata": {},
   "outputs": [],
   "source": [
    "from datetime import datetime, date, time"
   ]
  },
  {
   "cell_type": "code",
   "execution_count": 3,
   "id": "1513ef4d",
   "metadata": {},
   "outputs": [],
   "source": [
    "dt = datetime(2011, 10, 29, 20, 30, 21)"
   ]
  },
  {
   "cell_type": "code",
   "execution_count": 4,
   "id": "0ff91948",
   "metadata": {},
   "outputs": [
    {
     "data": {
      "text/plain": [
       "datetime.datetime(2011, 10, 29, 20, 30, 21)"
      ]
     },
     "execution_count": 4,
     "metadata": {},
     "output_type": "execute_result"
    }
   ],
   "source": [
    "dt"
   ]
  },
  {
   "cell_type": "code",
   "execution_count": 5,
   "id": "c4aac7c1",
   "metadata": {},
   "outputs": [
    {
     "data": {
      "text/plain": [
       "29"
      ]
     },
     "execution_count": 5,
     "metadata": {},
     "output_type": "execute_result"
    }
   ],
   "source": [
    "dt.day # dt.minute"
   ]
  },
  {
   "cell_type": "code",
   "execution_count": 10,
   "id": "502fe5b3",
   "metadata": {},
   "outputs": [
    {
     "data": {
      "text/plain": [
       "int"
      ]
     },
     "execution_count": 10,
     "metadata": {},
     "output_type": "execute_result"
    }
   ],
   "source": [
    "type(dt.second)"
   ]
  },
  {
   "cell_type": "code",
   "execution_count": 11,
   "id": "e01ab74a",
   "metadata": {},
   "outputs": [
    {
     "data": {
      "text/plain": [
       "datetime.date(2011, 10, 29)"
      ]
     },
     "execution_count": 11,
     "metadata": {},
     "output_type": "execute_result"
    }
   ],
   "source": [
    "dt.date() #dt.time()"
   ]
  },
  {
   "cell_type": "code",
   "execution_count": 12,
   "id": "f69dafda",
   "metadata": {},
   "outputs": [
    {
     "data": {
      "text/plain": [
       "datetime.time(20, 30, 21)"
      ]
     },
     "execution_count": 12,
     "metadata": {},
     "output_type": "execute_result"
    }
   ],
   "source": [
    "dt.time()"
   ]
  },
  {
   "cell_type": "markdown",
   "id": "a40c2ec6",
   "metadata": {},
   "source": [
    "El método **strftime** formatea un datetime como cadena de texto:"
   ]
  },
  {
   "cell_type": "code",
   "execution_count": 13,
   "id": "398fdc07",
   "metadata": {},
   "outputs": [
    {
     "data": {
      "text/plain": [
       "'2011-10-29 20:30'"
      ]
     },
     "execution_count": 13,
     "metadata": {},
     "output_type": "execute_result"
    }
   ],
   "source": [
    "dt.strftime('%Y-%m-%d %H:%M')"
   ]
  },
  {
   "cell_type": "code",
   "execution_count": null,
   "id": "86324442",
   "metadata": {},
   "outputs": [],
   "source": [
    "a="
   ]
  },
  {
   "cell_type": "code",
   "execution_count": null,
   "id": "399b8e15",
   "metadata": {},
   "outputs": [],
   "source": []
  },
  {
   "cell_type": "markdown",
   "id": "e3f20187",
   "metadata": {},
   "source": [
    "Las cadenas de texto se pueden convertir en objetos datetime con la función **strptime**:"
   ]
  },
  {
   "cell_type": "code",
   "execution_count": 14,
   "id": "5fdb5778",
   "metadata": {},
   "outputs": [
    {
     "data": {
      "text/plain": [
       "datetime.datetime(2009, 10, 31, 0, 0)"
      ]
     },
     "execution_count": 14,
     "metadata": {},
     "output_type": "execute_result"
    }
   ],
   "source": [
    "datetime.strptime('20091031', '%Y%m%d')"
   ]
  },
  {
   "cell_type": "code",
   "execution_count": null,
   "id": "c1ebe730",
   "metadata": {},
   "outputs": [],
   "source": []
  },
  {
   "cell_type": "code",
   "execution_count": null,
   "id": "799a2777",
   "metadata": {},
   "outputs": [],
   "source": []
  },
  {
   "cell_type": "markdown",
   "id": "6a072794",
   "metadata": {},
   "source": [
    "Cuando estamos agregando o agrupando de otro modo datos de series temporales, de vez en cuando es útil reemplazar campos de hora de una serie de datetimes (por ejemplo, sustituyendo los campos minute y second por cero):"
   ]
  },
  {
   "cell_type": "code",
   "execution_count": 17,
   "id": "4e73584c",
   "metadata": {},
   "outputs": [],
   "source": [
    "dt_hour = dt.replace(minute=0, second=1) "
   ]
  },
  {
   "cell_type": "code",
   "execution_count": 18,
   "id": "d029acf5",
   "metadata": {},
   "outputs": [
    {
     "data": {
      "text/plain": [
       "datetime.datetime(2011, 10, 29, 20, 30, 21)"
      ]
     },
     "execution_count": 18,
     "metadata": {},
     "output_type": "execute_result"
    }
   ],
   "source": [
    "dt"
   ]
  },
  {
   "cell_type": "code",
   "execution_count": 19,
   "id": "a1168b28",
   "metadata": {},
   "outputs": [
    {
     "data": {
      "text/plain": [
       "datetime.datetime(2011, 10, 29, 20, 0, 1)"
      ]
     },
     "execution_count": 19,
     "metadata": {},
     "output_type": "execute_result"
    }
   ],
   "source": [
    "dt_hour"
   ]
  },
  {
   "cell_type": "code",
   "execution_count": 9,
   "id": "26c0b748",
   "metadata": {},
   "outputs": [
    {
     "data": {
      "text/plain": [
       "datetime.datetime(2011, 10, 29, 20, 30, 21)"
      ]
     },
     "execution_count": 9,
     "metadata": {},
     "output_type": "execute_result"
    }
   ],
   "source": [
    "dt"
   ]
  },
  {
   "cell_type": "code",
   "execution_count": null,
   "id": "3d69ea34",
   "metadata": {},
   "outputs": [],
   "source": []
  },
  {
   "cell_type": "code",
   "execution_count": 20,
   "id": "d2614ee7",
   "metadata": {},
   "outputs": [],
   "source": [
    "dt_hour = dt.replace(hour=11,minute=4, second=3)"
   ]
  },
  {
   "cell_type": "code",
   "execution_count": 21,
   "id": "0a809f89",
   "metadata": {},
   "outputs": [
    {
     "data": {
      "text/plain": [
       "datetime.datetime(2011, 10, 29, 11, 4, 3)"
      ]
     },
     "execution_count": 21,
     "metadata": {},
     "output_type": "execute_result"
    }
   ],
   "source": [
    "dt_hour"
   ]
  },
  {
   "cell_type": "code",
   "execution_count": null,
   "id": "05511a15",
   "metadata": {},
   "outputs": [],
   "source": []
  },
  {
   "cell_type": "markdown",
   "id": "6641fa87",
   "metadata": {},
   "source": [
    "La diferencia de dos objetos datetime produce un tipo **datetime.timedelta**:"
   ]
  },
  {
   "cell_type": "code",
   "execution_count": 23,
   "id": "f53b474b",
   "metadata": {},
   "outputs": [
    {
     "data": {
      "text/plain": [
       "datetime.datetime(2011, 11, 15, 22, 30)"
      ]
     },
     "execution_count": 23,
     "metadata": {},
     "output_type": "execute_result"
    }
   ],
   "source": [
    "dt2 = datetime(2011, 11, 15, 22, 30)\n",
    "dt2"
   ]
  },
  {
   "cell_type": "code",
   "execution_count": 24,
   "id": "86bf3b67",
   "metadata": {},
   "outputs": [
    {
     "data": {
      "text/plain": [
       "datetime.datetime(2011, 10, 29, 20, 30, 21)"
      ]
     },
     "execution_count": 24,
     "metadata": {},
     "output_type": "execute_result"
    }
   ],
   "source": [
    "dt"
   ]
  },
  {
   "cell_type": "code",
   "execution_count": 25,
   "id": "a2ceca43",
   "metadata": {},
   "outputs": [
    {
     "data": {
      "text/plain": [
       "datetime.timedelta(days=17, seconds=7179)"
      ]
     },
     "execution_count": 25,
     "metadata": {},
     "output_type": "execute_result"
    }
   ],
   "source": [
    "delta = dt2-dt\n",
    "\n",
    "delta"
   ]
  },
  {
   "cell_type": "markdown",
   "id": "41f16958",
   "metadata": {},
   "source": [
    "El resultado timedelta(17, 7179) indica que el timedelta codifica un desplazamiento de 17 días y 7,179 segundos."
   ]
  },
  {
   "cell_type": "code",
   "execution_count": null,
   "id": "4f657154",
   "metadata": {},
   "outputs": [],
   "source": []
  },
  {
   "cell_type": "markdown",
   "id": "9aae29f1",
   "metadata": {},
   "source": [
    "Sumar un timedelta a un datetime produce un nuevo datetime movido de su sitio:"
   ]
  },
  {
   "cell_type": "code",
   "execution_count": 26,
   "id": "99da900a",
   "metadata": {},
   "outputs": [
    {
     "data": {
      "text/plain": [
       "datetime.datetime(2011, 10, 29, 20, 30, 21)"
      ]
     },
     "execution_count": 26,
     "metadata": {},
     "output_type": "execute_result"
    }
   ],
   "source": [
    "dt"
   ]
  },
  {
   "cell_type": "code",
   "execution_count": 27,
   "id": "c94e1487",
   "metadata": {},
   "outputs": [
    {
     "data": {
      "text/plain": [
       "datetime.datetime(2011, 11, 15, 22, 30)"
      ]
     },
     "execution_count": 27,
     "metadata": {},
     "output_type": "execute_result"
    }
   ],
   "source": [
    "dt+delta"
   ]
  },
  {
   "cell_type": "code",
   "execution_count": null,
   "id": "8c4fee51",
   "metadata": {},
   "outputs": [],
   "source": []
  },
  {
   "cell_type": "markdown",
   "id": "ad5f9964",
   "metadata": {},
   "source": [
    "¿Cuantos días has vivido?"
   ]
  },
  {
   "cell_type": "code",
   "execution_count": 32,
   "id": "ca1f7fc4",
   "metadata": {},
   "outputs": [],
   "source": [
    "f=datetime(2040, 4, 5, 22, 30)\n",
    "na=datetime(1988, 11, 5, 22, 30)"
   ]
  },
  {
   "cell_type": "code",
   "execution_count": 33,
   "id": "7d739ada",
   "metadata": {},
   "outputs": [],
   "source": [
    "d=f-na"
   ]
  },
  {
   "cell_type": "code",
   "execution_count": 34,
   "id": "377e39ed",
   "metadata": {},
   "outputs": [
    {
     "data": {
      "text/plain": [
       "datetime.timedelta(days=18779)"
      ]
     },
     "execution_count": 34,
     "metadata": {},
     "output_type": "execute_result"
    }
   ],
   "source": [
    "d"
   ]
  },
  {
   "cell_type": "code",
   "execution_count": 36,
   "id": "18e60526",
   "metadata": {},
   "outputs": [
    {
     "data": {
      "text/plain": [
       "51.44931506849315"
      ]
     },
     "execution_count": 36,
     "metadata": {},
     "output_type": "execute_result"
    }
   ],
   "source": [
    "d.days/365"
   ]
  },
  {
   "cell_type": "code",
   "execution_count": null,
   "id": "dc4c83c2",
   "metadata": {},
   "outputs": [],
   "source": []
  },
  {
   "cell_type": "markdown",
   "id": "bee9ee11",
   "metadata": {},
   "source": [
    "# Control de Flujo"
   ]
  },
  {
   "cell_type": "markdown",
   "id": "055c84aa",
   "metadata": {},
   "source": [
    "Python tiene varias palabras clave internas para lógica condicional, bucles y otros conceptos estándares de control de flujo, que pueden encontrarse en otros lenguajes de programación."
   ]
  },
  {
   "cell_type": "markdown",
   "id": "91e442e0",
   "metadata": {},
   "source": [
    "## if, elif y else"
   ]
  },
  {
   "cell_type": "markdown",
   "id": "ed198d16",
   "metadata": {},
   "source": [
    "La sentencia **if** es uno de los tipos de sentencia de control de flujo más conocidos. Comprueba una condición que, si es *True*, evalúa el código del bloque que le sigue:\n"
   ]
  },
  {
   "cell_type": "code",
   "execution_count": 38,
   "id": "10bbee38",
   "metadata": {},
   "outputs": [
    {
     "name": "stdout",
     "output_type": "stream",
     "text": [
      "x es negativo\n"
     ]
    }
   ],
   "source": [
    "x = -5\n",
    "if x < 0:\n",
    "    print('x es negativo')"
   ]
  },
  {
   "cell_type": "code",
   "execution_count": null,
   "id": "601f83d7",
   "metadata": {},
   "outputs": [],
   "source": []
  },
  {
   "cell_type": "code",
   "execution_count": null,
   "id": "fa0fd28f",
   "metadata": {},
   "outputs": [],
   "source": []
  },
  {
   "cell_type": "code",
   "execution_count": null,
   "id": "f32c6fd1",
   "metadata": {},
   "outputs": [],
   "source": []
  },
  {
   "cell_type": "markdown",
   "id": "7a99129f",
   "metadata": {},
   "source": [
    "Una sentencia *if* puede ir seguida de manera opcional por uno o más bloques **elif** y un bloque multifuncional **else** si todas las condiciones son False:"
   ]
  },
  {
   "cell_type": "code",
   "execution_count": 40,
   "id": "f1e963f5",
   "metadata": {},
   "outputs": [
    {
     "name": "stdout",
     "output_type": "stream",
     "text": [
      "x es positivo mayor o igual a 15\n"
     ]
    }
   ],
   "source": [
    "x = 20\n",
    "\n",
    "if x < 0:\n",
    "    print('x es negativo')\n",
    "elif x==0:\n",
    "    print('x es igual a cero')\n",
    "elif 0 < x < 15:\n",
    "    print('x es positivo pero menor que 15')\n",
    "else:\n",
    "    print('x es positivo mayor o igual a 15')"
   ]
  },
  {
   "cell_type": "code",
   "execution_count": null,
   "id": "1218b73f",
   "metadata": {},
   "outputs": [],
   "source": []
  },
  {
   "cell_type": "code",
   "execution_count": null,
   "id": "51494c4c",
   "metadata": {},
   "outputs": [],
   "source": []
  },
  {
   "cell_type": "code",
   "execution_count": null,
   "id": "e1761754",
   "metadata": {},
   "outputs": [],
   "source": []
  },
  {
   "cell_type": "code",
   "execution_count": null,
   "id": "1d691801",
   "metadata": {},
   "outputs": [],
   "source": []
  },
  {
   "cell_type": "markdown",
   "id": "e0f5dadc",
   "metadata": {},
   "source": [
    " Con una condición compuesta utilizando **and** o **or**, las condiciones se evalúan de izquierda a derecha "
   ]
  },
  {
   "cell_type": "code",
   "execution_count": 42,
   "id": "9afdc5fe",
   "metadata": {},
   "outputs": [],
   "source": [
    "a = 5; b = 7\n",
    "\n",
    "c = 8; d = 4"
   ]
  },
  {
   "cell_type": "code",
   "execution_count": 45,
   "id": "d3ff184c",
   "metadata": {},
   "outputs": [],
   "source": [
    "if a < b and d > c:\n",
    "    print('Cierto')"
   ]
  },
  {
   "cell_type": "code",
   "execution_count": null,
   "id": "1069b32e",
   "metadata": {},
   "outputs": [],
   "source": []
  },
  {
   "cell_type": "markdown",
   "id": "fb001aed",
   "metadata": {},
   "source": [
    "# Bucles for"
   ]
  },
  {
   "cell_type": "markdown",
   "id": "d07f8a22",
   "metadata": {},
   "source": [
    "Los bucles **for** se utilizan para aplicar determinadas instrucciones a una colección (como una lista o una tupla) o a un iterador."
   ]
  },
  {
   "cell_type": "code",
   "execution_count": 46,
   "id": "540a31b3",
   "metadata": {},
   "outputs": [
    {
     "name": "stdout",
     "output_type": "stream",
     "text": [
      "1\n",
      "2\n",
      "None\n",
      "4\n",
      "None\n",
      "5\n"
     ]
    }
   ],
   "source": [
    "L = [1, 2, None, 4, None, 5]\n",
    "\n",
    "for val in L:\n",
    "    print(val)"
   ]
  },
  {
   "cell_type": "markdown",
   "id": "1b4466ad",
   "metadata": {},
   "source": [
    "Se puede avanzar un bucle for a la siguiente repetición, saltando el resto del bloque, mediante la palabra clave **continue**."
   ]
  },
  {
   "cell_type": "code",
   "execution_count": 48,
   "id": "53f1b342",
   "metadata": {},
   "outputs": [],
   "source": [
    "a=3"
   ]
  },
  {
   "cell_type": "code",
   "execution_count": 49,
   "id": "4364870e",
   "metadata": {},
   "outputs": [],
   "source": [
    "a+=4"
   ]
  },
  {
   "cell_type": "code",
   "execution_count": 50,
   "id": "866357ed",
   "metadata": {},
   "outputs": [
    {
     "data": {
      "text/plain": [
       "7"
      ]
     },
     "execution_count": 50,
     "metadata": {},
     "output_type": "execute_result"
    }
   ],
   "source": [
    "a"
   ]
  },
  {
   "cell_type": "code",
   "execution_count": 51,
   "id": "e88500c4",
   "metadata": {},
   "outputs": [
    {
     "ename": "TypeError",
     "evalue": "unsupported operand type(s) for +=: 'int' and 'NoneType'",
     "output_type": "error",
     "traceback": [
      "\u001b[0;31m---------------------------------------------------------------------------\u001b[0m",
      "\u001b[0;31mTypeError\u001b[0m                                 Traceback (most recent call last)",
      "Cell \u001b[0;32mIn[51], line 5\u001b[0m\n\u001b[1;32m      2\u001b[0m total \u001b[38;5;241m=\u001b[39m \u001b[38;5;241m0\u001b[39m\n\u001b[1;32m      4\u001b[0m \u001b[38;5;28;01mfor\u001b[39;00m val \u001b[38;5;129;01min\u001b[39;00m L:\n\u001b[0;32m----> 5\u001b[0m     \u001b[43mtotal\u001b[49m\u001b[43m \u001b[49m\u001b[38;5;241;43m+\u001b[39;49m\u001b[38;5;241;43m=\u001b[39;49m\u001b[43m \u001b[49m\u001b[43mval\u001b[49m\n",
      "\u001b[0;31mTypeError\u001b[0m: unsupported operand type(s) for +=: 'int' and 'NoneType'"
     ]
    }
   ],
   "source": [
    "L = [1, 2, None, 4, None, 5]\n",
    "total = 0\n",
    "\n",
    "for val in L:\n",
    "    total += val"
   ]
  },
  {
   "cell_type": "code",
   "execution_count": 55,
   "id": "9ea85e0f",
   "metadata": {},
   "outputs": [],
   "source": [
    "L = [1, 2, None, 4, None, 5]\n",
    "total = 0\n",
    "\n",
    "for val in L:\n",
    "    if val is None:continue\n",
    "    total += val"
   ]
  },
  {
   "cell_type": "code",
   "execution_count": 53,
   "id": "cd2fd32a",
   "metadata": {},
   "outputs": [
    {
     "data": {
      "text/plain": [
       "12"
      ]
     },
     "execution_count": 53,
     "metadata": {},
     "output_type": "execute_result"
    }
   ],
   "source": [
    "total"
   ]
  },
  {
   "cell_type": "markdown",
   "id": "fcf83674",
   "metadata": {},
   "source": [
    "Un bucle for puede darse por terminado también con la palabra clave **break**."
   ]
  },
  {
   "cell_type": "code",
   "execution_count": 56,
   "id": "995f2b49",
   "metadata": {},
   "outputs": [],
   "source": [
    "seq = [1, 2, 0, 4, 6, 5, 2, 1]\n",
    "    \n",
    "total_antes_5 = 0\n",
    "\n",
    "for val in seq:\n",
    "    if val == 5: break\n",
    "    total_antes_5 += val\n",
    "\n"
   ]
  },
  {
   "cell_type": "code",
   "execution_count": 57,
   "id": "eda47197",
   "metadata": {},
   "outputs": [
    {
     "data": {
      "text/plain": [
       "13"
      ]
     },
     "execution_count": 57,
     "metadata": {},
     "output_type": "execute_result"
    }
   ],
   "source": [
    "total_antes_5"
   ]
  },
  {
   "cell_type": "markdown",
   "id": "fd86fb8d",
   "metadata": {},
   "source": [
    "# Bucles while"
   ]
  },
  {
   "cell_type": "markdown",
   "id": "a02ade43",
   "metadata": {},
   "source": [
    "Un bucle while especifica una condición y un bloque de código que se va ejecutar hasta que la condición evalúe a **False** o el bucle sea finalizado explícitamente con **break**:\n"
   ]
  },
  {
   "cell_type": "code",
   "execution_count": 58,
   "id": "a19daf38",
   "metadata": {},
   "outputs": [
    {
     "name": "stdout",
     "output_type": "stream",
     "text": [
      "0\n",
      "50\n",
      "100\n",
      "150\n",
      "200\n",
      "250\n",
      "300\n",
      "350\n",
      "400\n",
      "450\n",
      "500\n"
     ]
    }
   ],
   "source": [
    "x = 50\n",
    "total = 0\n",
    "\n",
    "while x > 0:\n",
    "    if total > 500: break\n",
    "    print(total)\n",
    "    total += x\n",
    "    "
   ]
  },
  {
   "cell_type": "markdown",
   "id": "775d0efe",
   "metadata": {},
   "source": [
    "**pass** es la sentencia «no operativa» (es decir, que no hace nada) de Python. Se puede utilizar en los bloques en los que no hay que realizar ninguna acción"
   ]
  },
  {
   "cell_type": "code",
   "execution_count": 61,
   "id": "cc0e3666",
   "metadata": {},
   "outputs": [],
   "source": [
    "x=0\n",
    "\n",
    "if x < 0:\n",
    "    print(\"negative\")\n",
    "elif x == 0:\n",
    "    pass\n",
    "else:\n",
    "    print(\"positive!\")"
   ]
  },
  {
   "cell_type": "markdown",
   "id": "f6bc7f22",
   "metadata": {},
   "source": [
    "La función **range** genera una secuencia de enteros espaciados por igual:"
   ]
  },
  {
   "cell_type": "code",
   "execution_count": 62,
   "id": "289e5768",
   "metadata": {},
   "outputs": [
    {
     "data": {
      "text/plain": [
       "range(0, 11)"
      ]
     },
     "execution_count": 62,
     "metadata": {},
     "output_type": "execute_result"
    }
   ],
   "source": [
    "range(11)"
   ]
  },
  {
   "cell_type": "code",
   "execution_count": 64,
   "id": "36acbcba",
   "metadata": {},
   "outputs": [
    {
     "data": {
      "text/plain": [
       "[0, 1, 2, 3, 4, 5, 6, 7, 8, 9, 10]"
      ]
     },
     "execution_count": 64,
     "metadata": {},
     "output_type": "execute_result"
    }
   ],
   "source": [
    "list(range(11))"
   ]
  },
  {
   "cell_type": "markdown",
   "id": "3e1cd482",
   "metadata": {},
   "source": [
    "Se puede dar un inicio, un final y un paso o incremento (que puede ser negativo):"
   ]
  },
  {
   "cell_type": "code",
   "execution_count": 30,
   "id": "854bc82e",
   "metadata": {},
   "outputs": [
    {
     "data": {
      "text/plain": [
       "[0, 2, 4, 6, 8, 10, 12, 14, 16, 18]"
      ]
     },
     "execution_count": 30,
     "metadata": {},
     "output_type": "execute_result"
    }
   ],
   "source": [
    "list(range(0, 20, 2))"
   ]
  },
  {
   "cell_type": "code",
   "execution_count": null,
   "id": "77efcc1d",
   "metadata": {},
   "outputs": [],
   "source": []
  },
  {
   "cell_type": "code",
   "execution_count": null,
   "id": "1c7d12ea",
   "metadata": {},
   "outputs": [],
   "source": []
  },
  {
   "cell_type": "code",
   "execution_count": 67,
   "id": "31cbe2ca",
   "metadata": {},
   "outputs": [
    {
     "data": {
      "text/plain": [
       "[12, 10, 8, 6, 4, 2]"
      ]
     },
     "execution_count": 67,
     "metadata": {},
     "output_type": "execute_result"
    }
   ],
   "source": [
    "list(range(12, 0, -2))"
   ]
  },
  {
   "cell_type": "markdown",
   "id": "c93dc45e",
   "metadata": {},
   "source": [
    "**range** produce enteros hasta el valor final pero sin incluirlo; se suele utilizar para aplicar instrucciones a distintas secuencias según un índice:\n"
   ]
  },
  {
   "cell_type": "code",
   "execution_count": 69,
   "id": "a54978cd",
   "metadata": {},
   "outputs": [
    {
     "name": "stdout",
     "output_type": "stream",
     "text": [
      "elemento 0: 1\n",
      "elemento 1: 4\n",
      "elemento 2: 7\n",
      "elemento 3: 23\n"
     ]
    }
   ],
   "source": [
    "seq = [1, 4, 7, 23]\n",
    "\n",
    "for i in range(len(seq)):\n",
    "    print(f'elemento {i}: {seq[i]}')"
   ]
  },
  {
   "cell_type": "code",
   "execution_count": 71,
   "id": "a7762bf2",
   "metadata": {},
   "outputs": [
    {
     "data": {
      "text/plain": [
       "range(0, 4)"
      ]
     },
     "execution_count": 71,
     "metadata": {},
     "output_type": "execute_result"
    }
   ],
   "source": [
    "range(len(seq))"
   ]
  },
  {
   "cell_type": "code",
   "execution_count": 72,
   "id": "a1dd90a8",
   "metadata": {},
   "outputs": [
    {
     "data": {
      "text/plain": [
       "35"
      ]
     },
     "execution_count": 72,
     "metadata": {},
     "output_type": "execute_result"
    }
   ],
   "source": [
    "sum(seq)"
   ]
  },
  {
   "cell_type": "code",
   "execution_count": 73,
   "id": "c290a8c9",
   "metadata": {},
   "outputs": [
    {
     "data": {
      "text/plain": [
       "5050.0"
      ]
     },
     "execution_count": 73,
     "metadata": {},
     "output_type": "execute_result"
    }
   ],
   "source": [
    "(100*101)/2"
   ]
  },
  {
   "cell_type": "code",
   "execution_count": 76,
   "id": "012d8752",
   "metadata": {},
   "outputs": [
    {
     "data": {
      "text/plain": [
       "2450"
      ]
     },
     "execution_count": 76,
     "metadata": {},
     "output_type": "execute_result"
    }
   ],
   "source": [
    "sum(range(0,100,2))\n",
    "\n",
    "\n"
   ]
  },
  {
   "cell_type": "code",
   "execution_count": 75,
   "id": "02b6ba46",
   "metadata": {},
   "outputs": [
    {
     "data": {
      "text/plain": [
       "range(0, 101)"
      ]
     },
     "execution_count": 75,
     "metadata": {},
     "output_type": "execute_result"
    }
   ],
   "source": [
    "range(0,101)"
   ]
  },
  {
   "cell_type": "markdown",
   "id": "92d55e89",
   "metadata": {},
   "source": [
    " suma de los cuadrados de enteros\n"
   ]
  },
  {
   "cell_type": "code",
   "execution_count": 77,
   "id": "46825a84",
   "metadata": {},
   "outputs": [],
   "source": [
    "P=[]\n",
    "\n",
    "for i in range(101):\n",
    "    P.append(i**2)\n",
    "    "
   ]
  },
  {
   "cell_type": "code",
   "execution_count": 79,
   "id": "f87fd840",
   "metadata": {},
   "outputs": [
    {
     "data": {
      "text/plain": [
       "338350"
      ]
     },
     "execution_count": 79,
     "metadata": {},
     "output_type": "execute_result"
    }
   ],
   "source": [
    "sum(P)"
   ]
  },
  {
   "cell_type": "code",
   "execution_count": null,
   "id": "aa2047c4",
   "metadata": {},
   "outputs": [],
   "source": []
  },
  {
   "cell_type": "code",
   "execution_count": 36,
   "id": "97d36afa",
   "metadata": {},
   "outputs": [],
   "source": []
  },
  {
   "cell_type": "code",
   "execution_count": null,
   "id": "2179372c",
   "metadata": {},
   "outputs": [],
   "source": []
  },
  {
   "cell_type": "code",
   "execution_count": null,
   "id": "36ec7328",
   "metadata": {},
   "outputs": [],
   "source": []
  }
 ],
 "metadata": {
  "kernelspec": {
   "display_name": "Python 3 (ipykernel)",
   "language": "python",
   "name": "python3"
  },
  "language_info": {
   "codemirror_mode": {
    "name": "ipython",
    "version": 3
   },
   "file_extension": ".py",
   "mimetype": "text/x-python",
   "name": "python",
   "nbconvert_exporter": "python",
   "pygments_lexer": "ipython3",
   "version": "3.9.6"
  }
 },
 "nbformat": 4,
 "nbformat_minor": 5
}
