{
 "cells": [
  {
   "cell_type": "markdown",
   "id": "c98cc945",
   "metadata": {},
   "source": [
    "suma de los cuadrados de enteros"
   ]
  },
  {
   "cell_type": "code",
   "execution_count": 1,
   "id": "cf0a25e8",
   "metadata": {},
   "outputs": [],
   "source": [
    "P=[]\n",
    "\n",
    "for i in range(101):\n",
    "    P.append(i**2)"
   ]
  },
  {
   "cell_type": "code",
   "execution_count": null,
   "id": "b59a9718",
   "metadata": {},
   "outputs": [],
   "source": []
  },
  {
   "cell_type": "code",
   "execution_count": 3,
   "id": "e367b25b",
   "metadata": {},
   "outputs": [
    {
     "data": {
      "text/plain": [
       "0"
      ]
     },
     "execution_count": 3,
     "metadata": {},
     "output_type": "execute_result"
    }
   ],
   "source": [
    "8 % 2\n"
   ]
  },
  {
   "cell_type": "markdown",
   "id": "8f482129",
   "metadata": {},
   "source": [
    "suma todos los números de 0 a 99 que son múltiplos de 5:"
   ]
  },
  {
   "cell_type": "markdown",
   "id": "32ff267e",
   "metadata": {},
   "source": [
    "% es el operador módulo"
   ]
  },
  {
   "cell_type": "code",
   "execution_count": 4,
   "id": "2a273ef3",
   "metadata": {},
   "outputs": [],
   "source": [
    "L=[]\n",
    "for i in range(100):\n",
    "    if i % 5 == 0:\n",
    "        L.append(i)"
   ]
  },
  {
   "cell_type": "code",
   "execution_count": 5,
   "id": "16c71757",
   "metadata": {},
   "outputs": [
    {
     "data": {
      "text/plain": [
       "[0, 5, 10, 15, 20, 25, 30, 35, 40, 45, 50, 55, 60, 65, 70, 75, 80, 85, 90, 95]"
      ]
     },
     "execution_count": 5,
     "metadata": {},
     "output_type": "execute_result"
    }
   ],
   "source": [
    "L"
   ]
  },
  {
   "cell_type": "code",
   "execution_count": 6,
   "id": "52b609f6",
   "metadata": {},
   "outputs": [
    {
     "data": {
      "text/plain": [
       "950"
      ]
     },
     "execution_count": 6,
     "metadata": {},
     "output_type": "execute_result"
    }
   ],
   "source": [
    "sum(L)"
   ]
  },
  {
   "cell_type": "code",
   "execution_count": null,
   "id": "adb66a40",
   "metadata": {},
   "outputs": [],
   "source": []
  },
  {
   "cell_type": "code",
   "execution_count": null,
   "id": "2f018463",
   "metadata": {},
   "outputs": [],
   "source": []
  },
  {
   "cell_type": "code",
   "execution_count": null,
   "id": "8832c570",
   "metadata": {},
   "outputs": [],
   "source": []
  },
  {
   "cell_type": "markdown",
   "id": "a09dc511",
   "metadata": {},
   "source": [
    "El siguiente código suma todos los números de 0 a 99,999 que son múltiplos de 3 o 5:"
   ]
  },
  {
   "cell_type": "code",
   "execution_count": null,
   "id": "d5d59a67",
   "metadata": {},
   "outputs": [],
   "source": []
  },
  {
   "cell_type": "code",
   "execution_count": null,
   "id": "e4e6ce45",
   "metadata": {},
   "outputs": [],
   "source": []
  },
  {
   "cell_type": "code",
   "execution_count": null,
   "id": "e8a29d3c",
   "metadata": {},
   "outputs": [],
   "source": []
  },
  {
   "cell_type": "code",
   "execution_count": null,
   "id": "2d7ea12f",
   "metadata": {},
   "outputs": [],
   "source": []
  },
  {
   "cell_type": "code",
   "execution_count": null,
   "id": "d53bd8c9",
   "metadata": {},
   "outputs": [],
   "source": []
  },
  {
   "cell_type": "code",
   "execution_count": 9,
   "id": "72996735",
   "metadata": {},
   "outputs": [],
   "source": [
    "total = 0\n",
    "\n",
    "for i in range(100_000):\n",
    "    if i % 3 == 0 or i % 5 == 0: # % es el operador módulo\n",
    "        total += i"
   ]
  },
  {
   "cell_type": "code",
   "execution_count": 10,
   "id": "d32e701b",
   "metadata": {},
   "outputs": [
    {
     "data": {
      "text/plain": [
       "2333316668"
      ]
     },
     "execution_count": 10,
     "metadata": {},
     "output_type": "execute_result"
    }
   ],
   "source": [
    "total"
   ]
  },
  {
   "cell_type": "code",
   "execution_count": null,
   "id": "764bfb30",
   "metadata": {},
   "outputs": [],
   "source": []
  },
  {
   "cell_type": "code",
   "execution_count": null,
   "id": "4296f3fb",
   "metadata": {},
   "outputs": [],
   "source": []
  },
  {
   "cell_type": "code",
   "execution_count": null,
   "id": "693f336c",
   "metadata": {},
   "outputs": [],
   "source": []
  },
  {
   "cell_type": "markdown",
   "id": "87591748",
   "metadata": {},
   "source": [
    "# Listas"
   ]
  },
  {
   "cell_type": "markdown",
   "id": "573fbd07",
   "metadata": {},
   "source": [
    "### Añadir y eliminar elementos"
   ]
  },
  {
   "cell_type": "markdown",
   "id": "156033d9",
   "metadata": {},
   "source": [
    "Utilizando **insert** se puede insertar un elemento en una determinada posición de la lista:"
   ]
  },
  {
   "cell_type": "code",
   "execution_count": 11,
   "id": "94328d0b",
   "metadata": {},
   "outputs": [],
   "source": [
    "lista=['foco', 'bar', 'azul']\n",
    "\n"
   ]
  },
  {
   "cell_type": "code",
   "execution_count": 12,
   "id": "9ee87aaf",
   "metadata": {},
   "outputs": [
    {
     "data": {
      "text/plain": [
       "['foco', 'bar', 'azul']"
      ]
     },
     "execution_count": 12,
     "metadata": {},
     "output_type": "execute_result"
    }
   ],
   "source": [
    "lista"
   ]
  },
  {
   "cell_type": "code",
   "execution_count": 13,
   "id": "e047cd49",
   "metadata": {},
   "outputs": [],
   "source": [
    "lista.insert(1, 'luna')"
   ]
  },
  {
   "cell_type": "code",
   "execution_count": 14,
   "id": "f22dce6f",
   "metadata": {},
   "outputs": [
    {
     "data": {
      "text/plain": [
       "['foco', 'luna', 'bar', 'azul']"
      ]
     },
     "execution_count": 14,
     "metadata": {},
     "output_type": "execute_result"
    }
   ],
   "source": [
    "lista"
   ]
  },
  {
   "cell_type": "markdown",
   "id": "c82e4d9a",
   "metadata": {},
   "source": [
    "La operación inversa a insert es **pop**, que elimina y devuelve un elemento en un determinado índice:"
   ]
  },
  {
   "cell_type": "code",
   "execution_count": 15,
   "id": "da02f311",
   "metadata": {},
   "outputs": [
    {
     "data": {
      "text/plain": [
       "'bar'"
      ]
     },
     "execution_count": 15,
     "metadata": {},
     "output_type": "execute_result"
    }
   ],
   "source": [
    "lista.pop(2)"
   ]
  },
  {
   "cell_type": "code",
   "execution_count": 16,
   "id": "1b773a88",
   "metadata": {},
   "outputs": [
    {
     "data": {
      "text/plain": [
       "['foco', 'luna', 'azul']"
      ]
     },
     "execution_count": 16,
     "metadata": {},
     "output_type": "execute_result"
    }
   ],
   "source": [
    "lista"
   ]
  },
  {
   "cell_type": "code",
   "execution_count": null,
   "id": "4325c71d",
   "metadata": {},
   "outputs": [],
   "source": []
  },
  {
   "cell_type": "code",
   "execution_count": 17,
   "id": "90817813",
   "metadata": {},
   "outputs": [],
   "source": [
    "lista.remove('foco')"
   ]
  },
  {
   "cell_type": "code",
   "execution_count": 18,
   "id": "23fc8e16",
   "metadata": {},
   "outputs": [
    {
     "data": {
      "text/plain": [
       "['luna', 'azul']"
      ]
     },
     "execution_count": 18,
     "metadata": {},
     "output_type": "execute_result"
    }
   ],
   "source": [
    "lista"
   ]
  },
  {
   "cell_type": "code",
   "execution_count": null,
   "id": "e8d83e3d",
   "metadata": {},
   "outputs": [],
   "source": []
  },
  {
   "cell_type": "markdown",
   "id": "d8a8fe68",
   "metadata": {},
   "source": [
    "Podemos comprobar que una lista contiene un valor mediante la palabra clave **in**:"
   ]
  },
  {
   "cell_type": "code",
   "execution_count": 19,
   "id": "a9a5136f",
   "metadata": {},
   "outputs": [
    {
     "data": {
      "text/plain": [
       "True"
      ]
     },
     "execution_count": 19,
     "metadata": {},
     "output_type": "execute_result"
    }
   ],
   "source": [
    "'luna' in lista"
   ]
  },
  {
   "cell_type": "code",
   "execution_count": null,
   "id": "28fb028a",
   "metadata": {},
   "outputs": [],
   "source": []
  },
  {
   "cell_type": "code",
   "execution_count": null,
   "id": "87a6b096",
   "metadata": {},
   "outputs": [],
   "source": []
  },
  {
   "cell_type": "markdown",
   "id": "980044ce",
   "metadata": {},
   "source": [
    "### Concatenar y combinar "
   ]
  },
  {
   "cell_type": "code",
   "execution_count": 20,
   "id": "300f1818",
   "metadata": {},
   "outputs": [
    {
     "data": {
      "text/plain": [
       "[4, None, 'foo', 7, 8, (2, 3), 5]"
      ]
     },
     "execution_count": 20,
     "metadata": {},
     "output_type": "execute_result"
    }
   ],
   "source": [
    "[4, None, 'foo'] + [7, 8, (2, 3),5]"
   ]
  },
  {
   "cell_type": "markdown",
   "id": "54bf7282",
   "metadata": {},
   "source": [
    "Si ya tenemos una lista definida, se le pueden añadir varios elementos utilizando el método extend:"
   ]
  },
  {
   "cell_type": "code",
   "execution_count": 21,
   "id": "1b9d7047",
   "metadata": {},
   "outputs": [],
   "source": [
    "x=[4, None, 'foo']\n",
    "\n",
    "x.extend([7, 8, (2, 3)]) "
   ]
  },
  {
   "cell_type": "code",
   "execution_count": 22,
   "id": "8be621a3",
   "metadata": {},
   "outputs": [
    {
     "data": {
      "text/plain": [
       "[4, None, 'foo', 7, 8, (2, 3)]"
      ]
     },
     "execution_count": 22,
     "metadata": {},
     "output_type": "execute_result"
    }
   ],
   "source": [
    "x"
   ]
  },
  {
   "cell_type": "markdown",
   "id": "7edadd44",
   "metadata": {},
   "source": [
    "### Ordenar"
   ]
  },
  {
   "cell_type": "code",
   "execution_count": null,
   "id": "45c988d3",
   "metadata": {},
   "outputs": [],
   "source": []
  },
  {
   "cell_type": "code",
   "execution_count": null,
   "id": "af565d5d",
   "metadata": {},
   "outputs": [],
   "source": []
  },
  {
   "cell_type": "code",
   "execution_count": null,
   "id": "7f924ac3",
   "metadata": {},
   "outputs": [],
   "source": []
  },
  {
   "cell_type": "code",
   "execution_count": 23,
   "id": "bd8aea14",
   "metadata": {},
   "outputs": [],
   "source": [
    "a = [7, 2, 5, 1, 3]"
   ]
  },
  {
   "cell_type": "code",
   "execution_count": 24,
   "id": "8fa775d9",
   "metadata": {},
   "outputs": [],
   "source": [
    "a.sort()"
   ]
  },
  {
   "cell_type": "code",
   "execution_count": 25,
   "id": "7049745f",
   "metadata": {},
   "outputs": [
    {
     "data": {
      "text/plain": [
       "[1, 2, 3, 5, 7]"
      ]
     },
     "execution_count": 25,
     "metadata": {},
     "output_type": "execute_result"
    }
   ],
   "source": [
    "a"
   ]
  },
  {
   "cell_type": "markdown",
   "id": "0241f417",
   "metadata": {},
   "source": [
    "Podemos ordenar una colección de cadenas de texto por sus longitudes:"
   ]
  },
  {
   "cell_type": "code",
   "execution_count": 1,
   "id": "1e7cc207",
   "metadata": {},
   "outputs": [],
   "source": [
    "b = ['saw', 'small', 'He', 'fox', 'six']"
   ]
  },
  {
   "cell_type": "code",
   "execution_count": 2,
   "id": "88a581ab",
   "metadata": {},
   "outputs": [],
   "source": [
    "b.sort()"
   ]
  },
  {
   "cell_type": "code",
   "execution_count": 27,
   "id": "48472df6",
   "metadata": {},
   "outputs": [],
   "source": [
    "b.sort(key=len)"
   ]
  },
  {
   "cell_type": "code",
   "execution_count": 3,
   "id": "4630a547",
   "metadata": {},
   "outputs": [
    {
     "data": {
      "text/plain": [
       "['He', 'fox', 'saw', 'six', 'small']"
      ]
     },
     "execution_count": 3,
     "metadata": {},
     "output_type": "execute_result"
    }
   ],
   "source": [
    "b"
   ]
  },
  {
   "cell_type": "code",
   "execution_count": null,
   "id": "85a76106",
   "metadata": {},
   "outputs": [],
   "source": []
  },
  {
   "cell_type": "markdown",
   "id": "18fda0e7",
   "metadata": {},
   "source": [
    "### Corte o rebanado"
   ]
  },
  {
   "cell_type": "code",
   "execution_count": 29,
   "id": "0be1213d",
   "metadata": {},
   "outputs": [],
   "source": [
    "seq = [7, 2, 3, 7, 5, 6, 0, 1]"
   ]
  },
  {
   "cell_type": "code",
   "execution_count": 30,
   "id": "b49ba81f",
   "metadata": {},
   "outputs": [
    {
     "data": {
      "text/plain": [
       "[2, 3, 7, 5]"
      ]
     },
     "execution_count": 30,
     "metadata": {},
     "output_type": "execute_result"
    }
   ],
   "source": [
    "seq[1:5]"
   ]
  },
  {
   "cell_type": "code",
   "execution_count": 32,
   "id": "8a0b5f6a",
   "metadata": {},
   "outputs": [],
   "source": [
    "seq[3:5] = [6, 3]"
   ]
  },
  {
   "cell_type": "code",
   "execution_count": 33,
   "id": "648dd0ec",
   "metadata": {},
   "outputs": [
    {
     "data": {
      "text/plain": [
       "[7, 2, 3, 6, 3, 6, 0, 1]"
      ]
     },
     "execution_count": 33,
     "metadata": {},
     "output_type": "execute_result"
    }
   ],
   "source": [
    "seq"
   ]
  },
  {
   "cell_type": "code",
   "execution_count": null,
   "id": "46890bf7",
   "metadata": {},
   "outputs": [],
   "source": []
  },
  {
   "cell_type": "markdown",
   "id": "189a82ad",
   "metadata": {},
   "source": [
    "# Diccionario"
   ]
  },
  {
   "cell_type": "markdown",
   "id": "2e22f5d5",
   "metadata": {},
   "source": [
    "Un diccionario almacena una colección de pares clave-valor, donde la clave y el valor son objetos Python. Cada clave está asociada a un valor, de modo que dicho valor se pueda recuperar, insertar, modificar o borrar convenientemente dada una determinada clave."
   ]
  },
  {
   "cell_type": "markdown",
   "id": "a802c5c5",
   "metadata": {},
   "source": [
    "Una forma de crear un diccionario es utilizando llaves {} y signos de dos puntos para separar claves y valores:"
   ]
  },
  {
   "cell_type": "code",
   "execution_count": 34,
   "id": "da95ec15",
   "metadata": {},
   "outputs": [],
   "source": [
    "Di={}"
   ]
  },
  {
   "cell_type": "code",
   "execution_count": 36,
   "id": "21dbc0c9",
   "metadata": {},
   "outputs": [],
   "source": [
    "d1 = {'a': 'algún valor', 'b': [1, 2, 3, 4]}"
   ]
  },
  {
   "cell_type": "code",
   "execution_count": 37,
   "id": "d68c3c4a",
   "metadata": {},
   "outputs": [
    {
     "data": {
      "text/plain": [
       "{'a': 'algún valor', 'b': [1, 2, 3, 4]}"
      ]
     },
     "execution_count": 37,
     "metadata": {},
     "output_type": "execute_result"
    }
   ],
   "source": [
    "d1"
   ]
  },
  {
   "cell_type": "markdown",
   "id": "8aaeb24c",
   "metadata": {},
   "source": [
    "Se puede acceder a los elementos, insertarlos o formar conjuntos con ellos utilizando la misma sintaxis que para acceder a los elementos de una lista o tupla:"
   ]
  },
  {
   "cell_type": "code",
   "execution_count": 43,
   "id": "4d2f76d4",
   "metadata": {},
   "outputs": [],
   "source": [
    "d1[7] = 'un entero' #añadir a diccionario"
   ]
  },
  {
   "cell_type": "code",
   "execution_count": 44,
   "id": "098947e3",
   "metadata": {},
   "outputs": [
    {
     "data": {
      "text/plain": [
       "{'a': 'algún valor', 'b': [1, 2, 3, 4], 7: 'un entero'}"
      ]
     },
     "execution_count": 44,
     "metadata": {},
     "output_type": "execute_result"
    }
   ],
   "source": [
    "d1"
   ]
  },
  {
   "cell_type": "code",
   "execution_count": 41,
   "id": "e97a78c2",
   "metadata": {},
   "outputs": [
    {
     "data": {
      "text/plain": [
       "[1, 2, 3, 4]"
      ]
     },
     "execution_count": 41,
     "metadata": {},
     "output_type": "execute_result"
    }
   ],
   "source": [
    "d1['b'] #buscar con llave"
   ]
  },
  {
   "cell_type": "code",
   "execution_count": 42,
   "id": "55fae672",
   "metadata": {},
   "outputs": [
    {
     "data": {
      "text/plain": [
       "True"
      ]
     },
     "execution_count": 42,
     "metadata": {},
     "output_type": "execute_result"
    }
   ],
   "source": [
    "'a' in d1"
   ]
  },
  {
   "cell_type": "markdown",
   "id": "e89e81c8",
   "metadata": {},
   "source": [
    "El método **keys** y **values** proporciona iteradores de las claves y los\n",
    "valores del diccionario, respectivamente."
   ]
  },
  {
   "cell_type": "code",
   "execution_count": 45,
   "id": "fba9658f",
   "metadata": {},
   "outputs": [
    {
     "data": {
      "text/plain": [
       "['a', 'b', 7]"
      ]
     },
     "execution_count": 45,
     "metadata": {},
     "output_type": "execute_result"
    }
   ],
   "source": [
    "list(d1.keys())"
   ]
  },
  {
   "cell_type": "code",
   "execution_count": 46,
   "id": "977bcc2e",
   "metadata": {},
   "outputs": [
    {
     "data": {
      "text/plain": [
       "['algún valor', [1, 2, 3, 4], 'un entero']"
      ]
     },
     "execution_count": 46,
     "metadata": {},
     "output_type": "execute_result"
    }
   ],
   "source": [
    "list(d1.values())"
   ]
  },
  {
   "cell_type": "markdown",
   "id": "c528abf6",
   "metadata": {},
   "source": [
    "Se puede combinar un diccionario con otro con el método **update**:"
   ]
  },
  {
   "cell_type": "code",
   "execution_count": 50,
   "id": "a74cebbe",
   "metadata": {},
   "outputs": [],
   "source": [
    "d1.update({'z': 'azul', 'c': 12})"
   ]
  },
  {
   "cell_type": "code",
   "execution_count": 51,
   "id": "f5d368cb",
   "metadata": {},
   "outputs": [
    {
     "data": {
      "text/plain": [
       "{'a': 'algún valor', 'b': [1, 2, 3, 4], 7: 'un entero', 'z': 'azul', 'c': 12}"
      ]
     },
     "execution_count": 51,
     "metadata": {},
     "output_type": "execute_result"
    }
   ],
   "source": [
    "d1"
   ]
  },
  {
   "cell_type": "code",
   "execution_count": null,
   "id": "f432bdb0",
   "metadata": {},
   "outputs": [],
   "source": []
  },
  {
   "cell_type": "markdown",
   "id": "a75f4c55",
   "metadata": {},
   "source": [
    "# Funciones"
   ]
  },
  {
   "cell_type": "markdown",
   "id": "c1ffb5c8",
   "metadata": {},
   "source": [
    "Las funciones son el método principal y más importante de Python para organizar y reutilizar código. Como regla general, si nos anticipamos a la necesidad de repetir el mismo código o uno muy parecido más de una vez, puede merecer la pena escribir una función que se pueda reutilizar."
   ]
  },
  {
   "cell_type": "markdown",
   "id": "e7de619d",
   "metadata": {},
   "source": [
    "Las funciones se declaran con la palabra clave **def**. Una función\n",
    "contiene un bloque de código, con un uso opcional de la palabra clave **return**:"
   ]
  },
  {
   "cell_type": "code",
   "execution_count": null,
   "id": "79a53935",
   "metadata": {},
   "outputs": [],
   "source": []
  },
  {
   "cell_type": "code",
   "execution_count": null,
   "id": "6e541027",
   "metadata": {},
   "outputs": [],
   "source": []
  },
  {
   "cell_type": "code",
   "execution_count": 57,
   "id": "313b7144",
   "metadata": {},
   "outputs": [],
   "source": [
    "def sol(a, b):\n",
    "    x = -b/a\n",
    "    return x"
   ]
  },
  {
   "cell_type": "code",
   "execution_count": 56,
   "id": "36ade165",
   "metadata": {},
   "outputs": [
    {
     "data": {
      "text/plain": [
       "41"
      ]
     },
     "execution_count": 56,
     "metadata": {},
     "output_type": "execute_result"
    }
   ],
   "source": [
    "sumar(7,34)"
   ]
  },
  {
   "cell_type": "code",
   "execution_count": 54,
   "id": "7de31858",
   "metadata": {},
   "outputs": [],
   "source": [
    "resultado = sumar(234,34543)"
   ]
  },
  {
   "cell_type": "code",
   "execution_count": 5,
   "id": "3cf2ec48",
   "metadata": {},
   "outputs": [
    {
     "data": {
      "text/plain": [
       "34777"
      ]
     },
     "execution_count": 5,
     "metadata": {},
     "output_type": "execute_result"
    }
   ],
   "source": [
    "resultado"
   ]
  },
  {
   "cell_type": "markdown",
   "id": "673a83be",
   "metadata": {},
   "source": [
    "Una función que resuelva ecuaciones de la forma $$ax+b=0$$"
   ]
  },
  {
   "cell_type": "code",
   "execution_count": null,
   "id": "475488e3",
   "metadata": {},
   "outputs": [],
   "source": []
  },
  {
   "cell_type": "code",
   "execution_count": null,
   "id": "765c2bec",
   "metadata": {},
   "outputs": [],
   "source": []
  },
  {
   "cell_type": "code",
   "execution_count": null,
   "id": "4309ebcb",
   "metadata": {},
   "outputs": [],
   "source": []
  },
  {
   "cell_type": "markdown",
   "id": "8f95102e",
   "metadata": {},
   "source": [
    "Si Python alcanza el final de una función sin encontrar una sentencia return, devuelve automáticamente None."
   ]
  },
  {
   "cell_type": "code",
   "execution_count": 58,
   "id": "85155f54",
   "metadata": {},
   "outputs": [],
   "source": [
    "def f1(x):\n",
    "    print(x)"
   ]
  },
  {
   "cell_type": "code",
   "execution_count": 59,
   "id": "fcccc355",
   "metadata": {},
   "outputs": [
    {
     "name": "stdout",
     "output_type": "stream",
     "text": [
      "azul\n",
      "None\n"
     ]
    }
   ],
   "source": [
    "print(f1('azul'))"
   ]
  },
  {
   "cell_type": "markdown",
   "id": "7eefdc10",
   "metadata": {},
   "source": [
    "Una función con un argumento opcional z que tiene el valor predeterminado "
   ]
  },
  {
   "cell_type": "code",
   "execution_count": 61,
   "id": "892e6612",
   "metadata": {},
   "outputs": [],
   "source": [
    "def mi_func(x, y, z=2):     # z=1.5\n",
    "    if z > 1:\n",
    "        return z * (x + y)\n",
    "    else:\n",
    "        return z / (x + y)"
   ]
  },
  {
   "cell_type": "code",
   "execution_count": null,
   "id": "c71db29c",
   "metadata": {},
   "outputs": [],
   "source": []
  },
  {
   "cell_type": "markdown",
   "id": "a425df35",
   "metadata": {},
   "source": [
    "Ejercicio. Encontrar una función que resuelva ecuaciones cuadraticas con raices reales"
   ]
  },
  {
   "attachments": {},
   "cell_type": "markdown",
   "id": "10247ec4",
   "metadata": {},
   "source": [
    "**Ejemplos de sus compañeros en el Repositorio**"
   ]
  },
  {
   "cell_type": "code",
   "execution_count": null,
   "id": "995f52c7",
   "metadata": {},
   "outputs": [],
   "source": []
  },
  {
   "cell_type": "code",
   "execution_count": null,
   "id": "ec877f48",
   "metadata": {},
   "outputs": [],
   "source": []
  },
  {
   "cell_type": "code",
   "execution_count": null,
   "id": "3f3b741d",
   "metadata": {},
   "outputs": [],
   "source": []
  },
  {
   "cell_type": "markdown",
   "id": "e0ac4994",
   "metadata": {},
   "source": [
    "Cualquier variable asignada dentro de una función está asignada  al espacio de nombres local."
   ]
  },
  {
   "cell_type": "code",
   "execution_count": 72,
   "id": "4159f2ff",
   "metadata": {},
   "outputs": [],
   "source": [
    "def func():\n",
    "    h = []\n",
    "    for i in range(5):\n",
    "        h.append(i)  "
   ]
  },
  {
   "cell_type": "code",
   "execution_count": 66,
   "id": "d5b5dda3",
   "metadata": {},
   "outputs": [
    {
     "ename": "NameError",
     "evalue": "name 'h' is not defined",
     "output_type": "error",
     "traceback": [
      "\u001b[0;31m---------------------------------------------------------------------------\u001b[0m",
      "\u001b[0;31mNameError\u001b[0m                                 Traceback (most recent call last)",
      "Cell \u001b[0;32mIn[66], line 1\u001b[0m\n\u001b[0;32m----> 1\u001b[0m \u001b[43mh\u001b[49m\n",
      "\u001b[0;31mNameError\u001b[0m: name 'h' is not defined"
     ]
    }
   ],
   "source": [
    "h"
   ]
  },
  {
   "cell_type": "code",
   "execution_count": 67,
   "id": "b93f5792",
   "metadata": {},
   "outputs": [],
   "source": [
    "func()"
   ]
  },
  {
   "cell_type": "code",
   "execution_count": 68,
   "id": "e472f810",
   "metadata": {},
   "outputs": [],
   "source": [
    "h=[]"
   ]
  },
  {
   "cell_type": "code",
   "execution_count": 69,
   "id": "c6e111ec",
   "metadata": {},
   "outputs": [],
   "source": [
    "def func():\n",
    "    for i in range(5):\n",
    "        h.append(i)"
   ]
  },
  {
   "cell_type": "code",
   "execution_count": 70,
   "id": "400e805c",
   "metadata": {},
   "outputs": [
    {
     "data": {
      "text/plain": [
       "[]"
      ]
     },
     "execution_count": 70,
     "metadata": {},
     "output_type": "execute_result"
    }
   ],
   "source": [
    "h"
   ]
  },
  {
   "cell_type": "markdown",
   "id": "0315b612",
   "metadata": {},
   "source": [
    "Cada llamada a func modificará la lista a:"
   ]
  },
  {
   "cell_type": "code",
   "execution_count": 71,
   "id": "951a0d24",
   "metadata": {},
   "outputs": [],
   "source": [
    "func()"
   ]
  },
  {
   "cell_type": "code",
   "execution_count": 73,
   "id": "7e41a925",
   "metadata": {},
   "outputs": [
    {
     "data": {
      "text/plain": [
       "[0, 1, 2, 3, 4]"
      ]
     },
     "execution_count": 73,
     "metadata": {},
     "output_type": "execute_result"
    }
   ],
   "source": [
    "h"
   ]
  },
  {
   "cell_type": "code",
   "execution_count": 74,
   "id": "850199f2",
   "metadata": {},
   "outputs": [],
   "source": [
    "func()"
   ]
  },
  {
   "cell_type": "code",
   "execution_count": 75,
   "id": "9bf30625",
   "metadata": {},
   "outputs": [
    {
     "data": {
      "text/plain": [
       "[0, 1, 2, 3, 4]"
      ]
     },
     "execution_count": 75,
     "metadata": {},
     "output_type": "execute_result"
    }
   ],
   "source": [
    "h"
   ]
  },
  {
   "cell_type": "code",
   "execution_count": 76,
   "id": "963d44be",
   "metadata": {},
   "outputs": [],
   "source": [
    "estados = [' Alabama ', 'Georgia!', 'Georgia', 'georgia', \n",
    "           'FlOrIda','south carolina##', 'West virginia?']"
   ]
  },
  {
   "cell_type": "code",
   "execution_count": null,
   "id": "e124975f",
   "metadata": {},
   "outputs": [],
   "source": []
  },
  {
   "cell_type": "code",
   "execution_count": null,
   "id": "52f23e76",
   "metadata": {},
   "outputs": [],
   "source": []
  },
  {
   "cell_type": "markdown",
   "id": "c952797c",
   "metadata": {},
   "source": [
    "Una forma de limpiar la lista es utilizando métodos de cadena de texto internos junto con el\n",
    "módulo de librería estándar **re** para las expresiones regulares:"
   ]
  },
  {
   "cell_type": "code",
   "execution_count": 77,
   "id": "a630c566",
   "metadata": {},
   "outputs": [],
   "source": [
    "import re\n",
    "    \n",
    "def limpiar_cadenas(strings):\n",
    "    result = []\n",
    "    for value in strings:\n",
    "        value = value.strip()  # suprime blancos u otro carácter especificado del final \n",
    "                               #o del principio de una expresión \n",
    "        value = re.sub('[!#?]', '', value) #reemplaza todas las ocurrencias de un patrón \n",
    "                                           #por el texto que especifiquemos\n",
    "        value = value.title() #convierte la primera letra de cada palabra de una cadena \n",
    "                              # a mayúsculas.\n",
    "        result.append(value) \n",
    "    return result"
   ]
  },
  {
   "cell_type": "code",
   "execution_count": 78,
   "id": "75283888",
   "metadata": {},
   "outputs": [
    {
     "data": {
      "text/plain": [
       "['Alabama',\n",
       " 'Georgia',\n",
       " 'Georgia',\n",
       " 'Georgia',\n",
       " 'Florida',\n",
       " 'South Carolina',\n",
       " 'West Virginia']"
      ]
     },
     "execution_count": 78,
     "metadata": {},
     "output_type": "execute_result"
    }
   ],
   "source": [
    "limpiar_cadenas(estados)"
   ]
  },
  {
   "cell_type": "code",
   "execution_count": null,
   "id": "b16e0713",
   "metadata": {},
   "outputs": [],
   "source": []
  }
 ],
 "metadata": {
  "kernelspec": {
   "display_name": "Python 3 (ipykernel)",
   "language": "python",
   "name": "python3"
  },
  "language_info": {
   "codemirror_mode": {
    "name": "ipython",
    "version": 3
   },
   "file_extension": ".py",
   "mimetype": "text/x-python",
   "name": "python",
   "nbconvert_exporter": "python",
   "pygments_lexer": "ipython3",
   "version": "3.9.6"
  }
 },
 "nbformat": 4,
 "nbformat_minor": 5
}
